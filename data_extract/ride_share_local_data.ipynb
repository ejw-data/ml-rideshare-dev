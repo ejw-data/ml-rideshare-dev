{
 "cells": [
  {
   "cell_type": "code",
   "execution_count": null,
   "id": "0a5faccd-edff-47df-a0b4-dea4d03b8daf",
   "metadata": {},
   "outputs": [],
   "source": []
  },
  {
   "cell_type": "code",
   "execution_count": null,
   "id": "5999c64f-746f-4c59-8a76-bd0215e4b4cd",
   "metadata": {},
   "outputs": [],
   "source": [
    "## Features to check\n",
    "# what is the trend for number of rides per day?  Is it cyclical?  Is there a trend that indicates certain days are different than others?\n",
    "# On day of the week, is there a difference in user usage?\n",
    "# Are there differences in user usage based on major events (ie baseball games, etc).\n",
    "# On features that show differences, are there cost per mile differences\n",
    "\n",
    "# Need to calculate a cost per mile column as a metric\n",
    "# Does usage rate effect price?\n"
   ]
  },
  {
   "cell_type": "code",
   "execution_count": null,
   "id": "2d749bed-414d-48ad-b32e-37d9510616b9",
   "metadata": {},
   "outputs": [],
   "source": []
  },
  {
   "cell_type": "code",
   "execution_count": 2,
   "id": "3da6f75f-4ac7-422a-8f29-21868c5f693a",
   "metadata": {},
   "outputs": [],
   "source": [
    "import vaex as vx\n",
    "import numpy as np"
   ]
  },
  {
   "cell_type": "code",
   "execution_count": 5,
   "id": "edd31f92-5a89-4bb1-9356-31cf1ac228b1",
   "metadata": {},
   "outputs": [],
   "source": [
    "import pandas as pd"
   ]
  },
  {
   "cell_type": "code",
   "execution_count": 208,
   "id": "41fac8e2-e46c-4a32-ae99-2a584749cfdd",
   "metadata": {
    "tags": []
   },
   "outputs": [
    {
     "data": {
      "text/html": [
       "<table>\n",
       "<thead>\n",
       "<tr><th>#                            </th><th>Trip ID                                 </th><th>Trip Start Timestamp  </th><th>Trip End Timestamp    </th><th style=\"text-align: right;\">  Trip Seconds</th><th style=\"text-align: right;\">  Trip Miles</th><th style=\"text-align: right;\">  Pickup Census Tract</th><th style=\"text-align: right;\">  Dropoff Census Tract</th><th style=\"text-align: right;\">  Pickup Community Area</th><th style=\"text-align: right;\">  Dropoff Community Area</th><th style=\"text-align: right;\">  Fare</th><th style=\"text-align: right;\">  Tip</th><th style=\"text-align: right;\">  Additional Charges</th><th style=\"text-align: right;\">  Trip Total</th><th>Shared Trip Authorized  </th><th style=\"text-align: right;\">  Trips Pooled</th><th style=\"text-align: right;\">  Pickup Centroid Latitude</th><th style=\"text-align: right;\">  Pickup Centroid Longitude</th><th>Pickup Centroid Location            </th><th style=\"text-align: right;\">  Dropoff Centroid Latitude</th><th style=\"text-align: right;\">  Dropoff Centroid Longitude</th><th>Dropoff Centroid Location           </th></tr>\n",
       "</thead>\n",
       "<tbody>\n",
       "<tr><td>&lt;i style=&#x27;opacity: 0.6&#x27;&gt;0&lt;/i&gt;</td><td>c270e7aa445974de59f845e2a0ebc9dc6b84c403</td><td>06/23/2019 12:30:00 PM</td><td>06/23/2019 01:00:00 PM</td><td style=\"text-align: right;\">          1745</td><td style=\"text-align: right;\">         8.2</td><td style=\"text-align: right;\">        nan          </td><td style=\"text-align: right;\">         nan          </td><td style=\"text-align: right;\">                     21</td><td style=\"text-align: right;\">                      28</td><td style=\"text-align: right;\">  25  </td><td style=\"text-align: right;\">    3</td><td style=\"text-align: right;\">                2.55</td><td style=\"text-align: right;\">       30.55</td><td>False                   </td><td style=\"text-align: right;\">             1</td><td style=\"text-align: right;\">                   41.9387</td><td style=\"text-align: right;\">                   -87.7112</td><td>POINT (-87.7112105933 41.9386661962)</td><td style=\"text-align: right;\">                    41.874 </td><td style=\"text-align: right;\">                    -87.6635</td><td>POINT (-87.6635175498 41.874005383) </td></tr>\n",
       "<tr><td>&lt;i style=&#x27;opacity: 0.6&#x27;&gt;1&lt;/i&gt;</td><td>c270e7f286fe731c522a12fc3fa24f3a676e1c09</td><td>04/07/2019 11:30:00 PM</td><td>04/07/2019 11:30:00 PM</td><td style=\"text-align: right;\">           235</td><td style=\"text-align: right;\">         0.6</td><td style=\"text-align: right;\">          1.70313e+10</td><td style=\"text-align: right;\">           1.70318e+10</td><td style=\"text-align: right;\">                     32</td><td style=\"text-align: right;\">                      32</td><td style=\"text-align: right;\">   2.5</td><td style=\"text-align: right;\">    0</td><td style=\"text-align: right;\">                2.55</td><td style=\"text-align: right;\">        5.05</td><td>False                   </td><td style=\"text-align: right;\">             1</td><td style=\"text-align: right;\">                   41.885 </td><td style=\"text-align: right;\">                   -87.621 </td><td>POINT (-87.6209929134 41.8849871918)</td><td style=\"text-align: right;\">                    41.881 </td><td style=\"text-align: right;\">                    -87.6327</td><td>POINT (-87.6327464887 41.8809944707)</td></tr>\n",
       "<tr><td>&lt;i style=&#x27;opacity: 0.6&#x27;&gt;2&lt;/i&gt;</td><td>c270e931c25608efe6a40626e9923b2b269b7bc6</td><td>06/25/2019 02:45:00 PM</td><td>06/25/2019 03:00:00 PM</td><td style=\"text-align: right;\">          1143</td><td style=\"text-align: right;\">         3.6</td><td style=\"text-align: right;\">          1.70318e+10</td><td style=\"text-align: right;\">           1.70313e+10</td><td style=\"text-align: right;\">                      7</td><td style=\"text-align: right;\">                      32</td><td style=\"text-align: right;\">  10  </td><td style=\"text-align: right;\">    0</td><td style=\"text-align: right;\">                2.55</td><td style=\"text-align: right;\">       12.55</td><td>False                   </td><td style=\"text-align: right;\">             1</td><td style=\"text-align: right;\">                   41.9147</td><td style=\"text-align: right;\">                   -87.654 </td><td>POINT (-87.6540070286 41.9147473049)</td><td style=\"text-align: right;\">                    41.885 </td><td style=\"text-align: right;\">                    -87.621 </td><td>POINT (-87.6209929134 41.8849871918)</td></tr>\n",
       "<tr><td>&lt;i style=&#x27;opacity: 0.6&#x27;&gt;3&lt;/i&gt;</td><td>c270ea6b9bb98ebc5efa7e05d82bd47576551db1</td><td>05/03/2019 08:45:00 PM</td><td>05/03/2019 09:00:00 PM</td><td style=\"text-align: right;\">          1510</td><td style=\"text-align: right;\">         6.5</td><td style=\"text-align: right;\">        nan          </td><td style=\"text-align: right;\">         nan          </td><td style=\"text-align: right;\">                     21</td><td style=\"text-align: right;\">                      30</td><td style=\"text-align: right;\">  15  </td><td style=\"text-align: right;\">    0</td><td style=\"text-align: right;\">                2.55</td><td style=\"text-align: right;\">       17.55</td><td>False                   </td><td style=\"text-align: right;\">             1</td><td style=\"text-align: right;\">                   41.9387</td><td style=\"text-align: right;\">                   -87.7112</td><td>POINT (-87.7112105933 41.9386661962)</td><td style=\"text-align: right;\">                    41.8391</td><td style=\"text-align: right;\">                    -87.714 </td><td>POINT (-87.714003807 41.8390869059) </td></tr>\n",
       "<tr><td>&lt;i style=&#x27;opacity: 0.6&#x27;&gt;4&lt;/i&gt;</td><td>c270eaf3ac453fcdfe5f78e307d082c871fa89df</td><td>04/25/2019 12:15:00 AM</td><td>04/25/2019 12:30:00 AM</td><td style=\"text-align: right;\">           450</td><td style=\"text-align: right;\">         1.8</td><td style=\"text-align: right;\">        nan          </td><td style=\"text-align: right;\">         nan          </td><td style=\"text-align: right;\">                     41</td><td style=\"text-align: right;\">                      41</td><td style=\"text-align: right;\">   5  </td><td style=\"text-align: right;\">    1</td><td style=\"text-align: right;\">                2.55</td><td style=\"text-align: right;\">        8.55</td><td>True                    </td><td style=\"text-align: right;\">             1</td><td style=\"text-align: right;\">                   41.7941</td><td style=\"text-align: right;\">                   -87.5923</td><td>POINT (-87.592310855 41.794090253)  </td><td style=\"text-align: right;\">                    41.7941</td><td style=\"text-align: right;\">                    -87.5923</td><td>POINT (-87.592310855 41.794090253)  </td></tr>\n",
       "<tr><td>&lt;i style=&#x27;opacity: 0.6&#x27;&gt;5&lt;/i&gt;</td><td>c270eb7d79ce5d61c85f75e461164990a985d3bf</td><td>06/11/2019 06:00:00 PM</td><td>06/11/2019 07:00:00 PM</td><td style=\"text-align: right;\">          3038</td><td style=\"text-align: right;\">        17.2</td><td style=\"text-align: right;\">          1.70318e+10</td><td style=\"text-align: right;\">           1.70314e+10</td><td style=\"text-align: right;\">                     13</td><td style=\"text-align: right;\">                      42</td><td style=\"text-align: right;\">  30  </td><td style=\"text-align: right;\">    0</td><td style=\"text-align: right;\">                2.55</td><td style=\"text-align: right;\">       32.55</td><td>False                   </td><td style=\"text-align: right;\">             1</td><td style=\"text-align: right;\">                   41.9783</td><td style=\"text-align: right;\">                   -87.7164</td><td>POINT (-87.7164304157 41.9782942489)</td><td style=\"text-align: right;\">                    41.7831</td><td style=\"text-align: right;\">                    -87.6084</td><td>POINT (-87.6084265019 41.7831007248)</td></tr>\n",
       "<tr><td>&lt;i style=&#x27;opacity: 0.6&#x27;&gt;6&lt;/i&gt;</td><td>c270ebb2b854a6d8965fc204d43a23ee5c0e8a47</td><td>06/11/2019 09:00:00 PM</td><td>06/11/2019 09:00:00 PM</td><td style=\"text-align: right;\">           731</td><td style=\"text-align: right;\">         3.7</td><td style=\"text-align: right;\">        nan          </td><td style=\"text-align: right;\">         nan          </td><td style=\"text-align: right;\">                      5</td><td style=\"text-align: right;\">                      24</td><td style=\"text-align: right;\">   7.5</td><td style=\"text-align: right;\">    0</td><td style=\"text-align: right;\">                0   </td><td style=\"text-align: right;\">        7.5 </td><td>True                    </td><td style=\"text-align: right;\">             1</td><td style=\"text-align: right;\">                   41.9478</td><td style=\"text-align: right;\">                   -87.6838</td><td>POINT (-87.6838349425 41.9477915865)</td><td style=\"text-align: right;\">                    41.9012</td><td style=\"text-align: right;\">                    -87.6764</td><td>POINT (-87.6763559892 41.9012069941)</td></tr>\n",
       "<tr><td>&lt;i style=&#x27;opacity: 0.6&#x27;&gt;7&lt;/i&gt;</td><td>c270ebe07d287879ada954b923b30c9fe7fce383</td><td>05/13/2019 06:30:00 AM</td><td>05/13/2019 06:45:00 AM</td><td style=\"text-align: right;\">          1001</td><td style=\"text-align: right;\">         4.9</td><td style=\"text-align: right;\">        nan          </td><td style=\"text-align: right;\">         nan          </td><td style=\"text-align: right;\">                     31</td><td style=\"text-align: right;\">                      58</td><td style=\"text-align: right;\">  10  </td><td style=\"text-align: right;\">    0</td><td style=\"text-align: right;\">                2.55</td><td style=\"text-align: right;\">       12.55</td><td>False                   </td><td style=\"text-align: right;\">             1</td><td style=\"text-align: right;\">                   41.8503</td><td style=\"text-align: right;\">                   -87.6676</td><td>POINT (-87.667569312 41.8502663663) </td><td style=\"text-align: right;\">                    41.8174</td><td style=\"text-align: right;\">                    -87.6989</td><td>POINT (-87.6988607973 41.8173662079)</td></tr>\n",
       "<tr><td>&lt;i style=&#x27;opacity: 0.6&#x27;&gt;8&lt;/i&gt;</td><td>c270ec073e3a63e530b380f7ecc73c48d09336f2</td><td>05/16/2019 03:00:00 PM</td><td>05/16/2019 03:45:00 PM</td><td style=\"text-align: right;\">          2725</td><td style=\"text-align: right;\">        27.8</td><td style=\"text-align: right;\">        nan          </td><td style=\"text-align: right;\">           1.7032e+10 </td><td style=\"text-align: right;\">                    nan</td><td style=\"text-align: right;\">                      76</td><td style=\"text-align: right;\">  37.5</td><td style=\"text-align: right;\">    7</td><td style=\"text-align: right;\">               10.36</td><td style=\"text-align: right;\">       54.86</td><td>False                   </td><td style=\"text-align: right;\">             1</td><td style=\"text-align: right;\">                  nan     </td><td style=\"text-align: right;\">                   nan     </td><td>None                                </td><td style=\"text-align: right;\">                    41.9791</td><td style=\"text-align: right;\">                    -87.903 </td><td>POINT (-87.9030396611 41.9790708201)</td></tr>\n",
       "<tr><td>&lt;i style=&#x27;opacity: 0.6&#x27;&gt;9&lt;/i&gt;</td><td>c270ec3719c8a82d878f72b26e3e5e3b3c7d55ce</td><td>04/22/2019 08:45:00 PM</td><td>04/22/2019 09:00:00 PM</td><td style=\"text-align: right;\">           370</td><td style=\"text-align: right;\">         1.3</td><td style=\"text-align: right;\">        nan          </td><td style=\"text-align: right;\">         nan          </td><td style=\"text-align: right;\">                     28</td><td style=\"text-align: right;\">                      31</td><td style=\"text-align: right;\">   5  </td><td style=\"text-align: right;\">    3</td><td style=\"text-align: right;\">                2.55</td><td style=\"text-align: right;\">       10.55</td><td>False                   </td><td style=\"text-align: right;\">             1</td><td style=\"text-align: right;\">                   41.874 </td><td style=\"text-align: right;\">                   -87.6635</td><td>POINT (-87.6635175498 41.874005383) </td><td style=\"text-align: right;\">                    41.8503</td><td style=\"text-align: right;\">                    -87.6676</td><td>POINT (-87.667569312 41.8502663663) </td></tr>\n",
       "</tbody>\n",
       "</table>"
      ],
      "text/plain": [
       "  #  Trip ID                                   Trip Start Timestamp    Trip End Timestamp        Trip Seconds    Trip Miles    Pickup Census Tract    Dropoff Census Tract    Pickup Community Area    Dropoff Community Area    Fare    Tip    Additional Charges    Trip Total  Shared Trip Authorized      Trips Pooled    Pickup Centroid Latitude    Pickup Centroid Longitude  Pickup Centroid Location                Dropoff Centroid Latitude    Dropoff Centroid Longitude  Dropoff Centroid Location\n",
       "  0  c270e7aa445974de59f845e2a0ebc9dc6b84c403  06/23/2019 12:30:00 PM  06/23/2019 01:00:00 PM            1745           8.2          nan                     nan                                 21                        28    25        3                  2.55         30.55  False                                  1                     41.9387                     -87.7112  POINT (-87.7112105933 41.9386661962)                      41.874                       -87.6635  POINT (-87.6635175498 41.874005383)\n",
       "  1  c270e7f286fe731c522a12fc3fa24f3a676e1c09  04/07/2019 11:30:00 PM  04/07/2019 11:30:00 PM             235           0.6            1.70313e+10             1.70318e+10                       32                        32     2.5      0                  2.55          5.05  False                                  1                     41.885                      -87.621   POINT (-87.6209929134 41.8849871918)                      41.881                       -87.6327  POINT (-87.6327464887 41.8809944707)\n",
       "  2  c270e931c25608efe6a40626e9923b2b269b7bc6  06/25/2019 02:45:00 PM  06/25/2019 03:00:00 PM            1143           3.6            1.70318e+10             1.70313e+10                        7                        32    10        0                  2.55         12.55  False                                  1                     41.9147                     -87.654   POINT (-87.6540070286 41.9147473049)                      41.885                       -87.621   POINT (-87.6209929134 41.8849871918)\n",
       "  3  c270ea6b9bb98ebc5efa7e05d82bd47576551db1  05/03/2019 08:45:00 PM  05/03/2019 09:00:00 PM            1510           6.5          nan                     nan                                 21                        30    15        0                  2.55         17.55  False                                  1                     41.9387                     -87.7112  POINT (-87.7112105933 41.9386661962)                      41.8391                      -87.714   POINT (-87.714003807 41.8390869059)\n",
       "  4  c270eaf3ac453fcdfe5f78e307d082c871fa89df  04/25/2019 12:15:00 AM  04/25/2019 12:30:00 AM             450           1.8          nan                     nan                                 41                        41     5        1                  2.55          8.55  True                                   1                     41.7941                     -87.5923  POINT (-87.592310855 41.794090253)                        41.7941                      -87.5923  POINT (-87.592310855 41.794090253)\n",
       "  5  c270eb7d79ce5d61c85f75e461164990a985d3bf  06/11/2019 06:00:00 PM  06/11/2019 07:00:00 PM            3038          17.2            1.70318e+10             1.70314e+10                       13                        42    30        0                  2.55         32.55  False                                  1                     41.9783                     -87.7164  POINT (-87.7164304157 41.9782942489)                      41.7831                      -87.6084  POINT (-87.6084265019 41.7831007248)\n",
       "  6  c270ebb2b854a6d8965fc204d43a23ee5c0e8a47  06/11/2019 09:00:00 PM  06/11/2019 09:00:00 PM             731           3.7          nan                     nan                                  5                        24     7.5      0                  0             7.5   True                                   1                     41.9478                     -87.6838  POINT (-87.6838349425 41.9477915865)                      41.9012                      -87.6764  POINT (-87.6763559892 41.9012069941)\n",
       "  7  c270ebe07d287879ada954b923b30c9fe7fce383  05/13/2019 06:30:00 AM  05/13/2019 06:45:00 AM            1001           4.9          nan                     nan                                 31                        58    10        0                  2.55         12.55  False                                  1                     41.8503                     -87.6676  POINT (-87.667569312 41.8502663663)                       41.8174                      -87.6989  POINT (-87.6988607973 41.8173662079)\n",
       "  8  c270ec073e3a63e530b380f7ecc73c48d09336f2  05/16/2019 03:00:00 PM  05/16/2019 03:45:00 PM            2725          27.8          nan                       1.7032e+10                       nan                        76    37.5      7                 10.36         54.86  False                                  1                    nan                          nan       None                                                      41.9791                      -87.903   POINT (-87.9030396611 41.9790708201)\n",
       "  9  c270ec3719c8a82d878f72b26e3e5e3b3c7d55ce  04/22/2019 08:45:00 PM  04/22/2019 09:00:00 PM             370           1.3          nan                     nan                                 28                        31     5        3                  2.55         10.55  False                                  1                     41.874                      -87.6635  POINT (-87.6635175498 41.874005383)                       41.8503                      -87.6676  POINT (-87.667569312 41.8502663663)"
      ]
     },
     "execution_count": 208,
     "metadata": {},
     "output_type": "execute_result"
    }
   ],
   "source": [
    "df = vx.from_csv(\"D:\\Data Science\\Rideshare\\Transportation_Network_Providers_-_Trips.csv\", convert=True, chunk_size=5_000_000)\n",
    "df.head()"
   ]
  },
  {
   "cell_type": "code",
   "execution_count": 209,
   "id": "7b5e7102-84c2-4e37-b3b5-e396059f643d",
   "metadata": {},
   "outputs": [
    {
     "data": {
      "text/plain": [
       "Trip ID                       <class 'str'>\n",
       "Trip Start Timestamp          <class 'str'>\n",
       "Trip End Timestamp            <class 'str'>\n",
       "Trip Seconds                        float64\n",
       "Trip Miles                          float64\n",
       "Pickup Census Tract                 float64\n",
       "Dropoff Census Tract                float64\n",
       "Pickup Community Area               float64\n",
       "Dropoff Community Area              float64\n",
       "Fare                                float64\n",
       "Tip                                 float64\n",
       "Additional Charges                  float64\n",
       "Trip Total                          float64\n",
       "Shared Trip Authorized                 bool\n",
       "Trips Pooled                          int64\n",
       "Pickup Centroid Latitude            float64\n",
       "Pickup Centroid Longitude           float64\n",
       "Pickup Centroid Location      <class 'str'>\n",
       "Dropoff Centroid Latitude           float64\n",
       "Dropoff Centroid Longitude          float64\n",
       "Dropoff Centroid Location     <class 'str'>\n",
       "dtype: object"
      ]
     },
     "execution_count": 209,
     "metadata": {},
     "output_type": "execute_result"
    }
   ],
   "source": [
    "df.dtypes"
   ]
  },
  {
   "cell_type": "code",
   "execution_count": 210,
   "id": "53cf5338-041f-4857-97df-c7d9d164a17d",
   "metadata": {},
   "outputs": [
    {
     "data": {
      "text/plain": [
       "Expression = Trip_Start_Timestamp\n",
       "Length: 1 dtype: str (expression)\n",
       "---------------------------------\n",
       "0  06/23/2019 12:30:00 PM"
      ]
     },
     "execution_count": 210,
     "metadata": {},
     "output_type": "execute_result"
    }
   ],
   "source": [
    "x = df['Trip Start Timestamp'][0:1]\n",
    "x"
   ]
  },
  {
   "cell_type": "code",
   "execution_count": 211,
   "id": "bd8277a0-689f-4d40-9035-b90e4bfd3687",
   "metadata": {},
   "outputs": [
    {
     "data": {
      "text/plain": [
       "Expression = str_cat(str_cat(str_slice(Trip_Start_Timestamp, 0, 2), '-...\n",
       "Length: 1 dtype: str (expression)\n",
       "---------------------------------\n",
       "0  06-12"
      ]
     },
     "execution_count": 211,
     "metadata": {},
     "output_type": "execute_result"
    }
   ],
   "source": [
    "x.str.slice(0,2) + '-' + x.str.slice(11,13)"
   ]
  },
  {
   "cell_type": "code",
   "execution_count": 212,
   "id": "10649cb0-ed62-4a7d-be20-3b4bf136de03",
   "metadata": {},
   "outputs": [],
   "source": [
    "df['Trip Start Date'] = df['Trip Start Timestamp'].apply(lambda x: x[0:11])"
   ]
  },
  {
   "cell_type": "code",
   "execution_count": 213,
   "id": "ab5f4a62-3c25-474c-8139-314225c88bd4",
   "metadata": {},
   "outputs": [
    {
     "data": {
      "text/html": [
       "<table>\n",
       "<thead>\n",
       "<tr><th>#                            </th><th>Trip ID                                 </th><th>Trip Start Timestamp  </th><th>Trip End Timestamp    </th><th style=\"text-align: right;\">  Trip Seconds</th><th style=\"text-align: right;\">  Trip Miles</th><th style=\"text-align: right;\">  Pickup Census Tract</th><th style=\"text-align: right;\">  Dropoff Census Tract</th><th style=\"text-align: right;\">  Pickup Community Area</th><th style=\"text-align: right;\">  Dropoff Community Area</th><th style=\"text-align: right;\">  Fare</th><th style=\"text-align: right;\">  Tip</th><th style=\"text-align: right;\">  Additional Charges</th><th style=\"text-align: right;\">  Trip Total</th><th>Shared Trip Authorized  </th><th style=\"text-align: right;\">  Trips Pooled</th><th style=\"text-align: right;\">  Pickup Centroid Latitude</th><th style=\"text-align: right;\">  Pickup Centroid Longitude</th><th>Pickup Centroid Location            </th><th style=\"text-align: right;\">  Dropoff Centroid Latitude</th><th style=\"text-align: right;\">  Dropoff Centroid Longitude</th><th>Dropoff Centroid Location           </th><th>Trip Start Date  </th></tr>\n",
       "</thead>\n",
       "<tbody>\n",
       "<tr><td>&lt;i style=&#x27;opacity: 0.6&#x27;&gt;0&lt;/i&gt;</td><td>c270e7aa445974de59f845e2a0ebc9dc6b84c403</td><td>06/23/2019 12:30:00 PM</td><td>06/23/2019 01:00:00 PM</td><td style=\"text-align: right;\">          1745</td><td style=\"text-align: right;\">         8.2</td><td style=\"text-align: right;\">        nan          </td><td style=\"text-align: right;\">         nan          </td><td style=\"text-align: right;\">                     21</td><td style=\"text-align: right;\">                      28</td><td style=\"text-align: right;\">  25  </td><td style=\"text-align: right;\">    3</td><td style=\"text-align: right;\">                2.55</td><td style=\"text-align: right;\">       30.55</td><td>False                   </td><td style=\"text-align: right;\">             1</td><td style=\"text-align: right;\">                   41.9387</td><td style=\"text-align: right;\">                   -87.7112</td><td>POINT (-87.7112105933 41.9386661962)</td><td style=\"text-align: right;\">                    41.874 </td><td style=\"text-align: right;\">                    -87.6635</td><td>POINT (-87.6635175498 41.874005383) </td><td>06/23/2019       </td></tr>\n",
       "<tr><td>&lt;i style=&#x27;opacity: 0.6&#x27;&gt;1&lt;/i&gt;</td><td>c270e7f286fe731c522a12fc3fa24f3a676e1c09</td><td>04/07/2019 11:30:00 PM</td><td>04/07/2019 11:30:00 PM</td><td style=\"text-align: right;\">           235</td><td style=\"text-align: right;\">         0.6</td><td style=\"text-align: right;\">          1.70313e+10</td><td style=\"text-align: right;\">           1.70318e+10</td><td style=\"text-align: right;\">                     32</td><td style=\"text-align: right;\">                      32</td><td style=\"text-align: right;\">   2.5</td><td style=\"text-align: right;\">    0</td><td style=\"text-align: right;\">                2.55</td><td style=\"text-align: right;\">        5.05</td><td>False                   </td><td style=\"text-align: right;\">             1</td><td style=\"text-align: right;\">                   41.885 </td><td style=\"text-align: right;\">                   -87.621 </td><td>POINT (-87.6209929134 41.8849871918)</td><td style=\"text-align: right;\">                    41.881 </td><td style=\"text-align: right;\">                    -87.6327</td><td>POINT (-87.6327464887 41.8809944707)</td><td>04/07/2019       </td></tr>\n",
       "<tr><td>&lt;i style=&#x27;opacity: 0.6&#x27;&gt;2&lt;/i&gt;</td><td>c270e931c25608efe6a40626e9923b2b269b7bc6</td><td>06/25/2019 02:45:00 PM</td><td>06/25/2019 03:00:00 PM</td><td style=\"text-align: right;\">          1143</td><td style=\"text-align: right;\">         3.6</td><td style=\"text-align: right;\">          1.70318e+10</td><td style=\"text-align: right;\">           1.70313e+10</td><td style=\"text-align: right;\">                      7</td><td style=\"text-align: right;\">                      32</td><td style=\"text-align: right;\">  10  </td><td style=\"text-align: right;\">    0</td><td style=\"text-align: right;\">                2.55</td><td style=\"text-align: right;\">       12.55</td><td>False                   </td><td style=\"text-align: right;\">             1</td><td style=\"text-align: right;\">                   41.9147</td><td style=\"text-align: right;\">                   -87.654 </td><td>POINT (-87.6540070286 41.9147473049)</td><td style=\"text-align: right;\">                    41.885 </td><td style=\"text-align: right;\">                    -87.621 </td><td>POINT (-87.6209929134 41.8849871918)</td><td>06/25/2019       </td></tr>\n",
       "<tr><td>&lt;i style=&#x27;opacity: 0.6&#x27;&gt;3&lt;/i&gt;</td><td>c270ea6b9bb98ebc5efa7e05d82bd47576551db1</td><td>05/03/2019 08:45:00 PM</td><td>05/03/2019 09:00:00 PM</td><td style=\"text-align: right;\">          1510</td><td style=\"text-align: right;\">         6.5</td><td style=\"text-align: right;\">        nan          </td><td style=\"text-align: right;\">         nan          </td><td style=\"text-align: right;\">                     21</td><td style=\"text-align: right;\">                      30</td><td style=\"text-align: right;\">  15  </td><td style=\"text-align: right;\">    0</td><td style=\"text-align: right;\">                2.55</td><td style=\"text-align: right;\">       17.55</td><td>False                   </td><td style=\"text-align: right;\">             1</td><td style=\"text-align: right;\">                   41.9387</td><td style=\"text-align: right;\">                   -87.7112</td><td>POINT (-87.7112105933 41.9386661962)</td><td style=\"text-align: right;\">                    41.8391</td><td style=\"text-align: right;\">                    -87.714 </td><td>POINT (-87.714003807 41.8390869059) </td><td>05/03/2019       </td></tr>\n",
       "<tr><td>&lt;i style=&#x27;opacity: 0.6&#x27;&gt;4&lt;/i&gt;</td><td>c270eaf3ac453fcdfe5f78e307d082c871fa89df</td><td>04/25/2019 12:15:00 AM</td><td>04/25/2019 12:30:00 AM</td><td style=\"text-align: right;\">           450</td><td style=\"text-align: right;\">         1.8</td><td style=\"text-align: right;\">        nan          </td><td style=\"text-align: right;\">         nan          </td><td style=\"text-align: right;\">                     41</td><td style=\"text-align: right;\">                      41</td><td style=\"text-align: right;\">   5  </td><td style=\"text-align: right;\">    1</td><td style=\"text-align: right;\">                2.55</td><td style=\"text-align: right;\">        8.55</td><td>True                    </td><td style=\"text-align: right;\">             1</td><td style=\"text-align: right;\">                   41.7941</td><td style=\"text-align: right;\">                   -87.5923</td><td>POINT (-87.592310855 41.794090253)  </td><td style=\"text-align: right;\">                    41.7941</td><td style=\"text-align: right;\">                    -87.5923</td><td>POINT (-87.592310855 41.794090253)  </td><td>04/25/2019       </td></tr>\n",
       "<tr><td>&lt;i style=&#x27;opacity: 0.6&#x27;&gt;5&lt;/i&gt;</td><td>c270eb7d79ce5d61c85f75e461164990a985d3bf</td><td>06/11/2019 06:00:00 PM</td><td>06/11/2019 07:00:00 PM</td><td style=\"text-align: right;\">          3038</td><td style=\"text-align: right;\">        17.2</td><td style=\"text-align: right;\">          1.70318e+10</td><td style=\"text-align: right;\">           1.70314e+10</td><td style=\"text-align: right;\">                     13</td><td style=\"text-align: right;\">                      42</td><td style=\"text-align: right;\">  30  </td><td style=\"text-align: right;\">    0</td><td style=\"text-align: right;\">                2.55</td><td style=\"text-align: right;\">       32.55</td><td>False                   </td><td style=\"text-align: right;\">             1</td><td style=\"text-align: right;\">                   41.9783</td><td style=\"text-align: right;\">                   -87.7164</td><td>POINT (-87.7164304157 41.9782942489)</td><td style=\"text-align: right;\">                    41.7831</td><td style=\"text-align: right;\">                    -87.6084</td><td>POINT (-87.6084265019 41.7831007248)</td><td>06/11/2019       </td></tr>\n",
       "<tr><td>&lt;i style=&#x27;opacity: 0.6&#x27;&gt;6&lt;/i&gt;</td><td>c270ebb2b854a6d8965fc204d43a23ee5c0e8a47</td><td>06/11/2019 09:00:00 PM</td><td>06/11/2019 09:00:00 PM</td><td style=\"text-align: right;\">           731</td><td style=\"text-align: right;\">         3.7</td><td style=\"text-align: right;\">        nan          </td><td style=\"text-align: right;\">         nan          </td><td style=\"text-align: right;\">                      5</td><td style=\"text-align: right;\">                      24</td><td style=\"text-align: right;\">   7.5</td><td style=\"text-align: right;\">    0</td><td style=\"text-align: right;\">                0   </td><td style=\"text-align: right;\">        7.5 </td><td>True                    </td><td style=\"text-align: right;\">             1</td><td style=\"text-align: right;\">                   41.9478</td><td style=\"text-align: right;\">                   -87.6838</td><td>POINT (-87.6838349425 41.9477915865)</td><td style=\"text-align: right;\">                    41.9012</td><td style=\"text-align: right;\">                    -87.6764</td><td>POINT (-87.6763559892 41.9012069941)</td><td>06/11/2019       </td></tr>\n",
       "<tr><td>&lt;i style=&#x27;opacity: 0.6&#x27;&gt;7&lt;/i&gt;</td><td>c270ebe07d287879ada954b923b30c9fe7fce383</td><td>05/13/2019 06:30:00 AM</td><td>05/13/2019 06:45:00 AM</td><td style=\"text-align: right;\">          1001</td><td style=\"text-align: right;\">         4.9</td><td style=\"text-align: right;\">        nan          </td><td style=\"text-align: right;\">         nan          </td><td style=\"text-align: right;\">                     31</td><td style=\"text-align: right;\">                      58</td><td style=\"text-align: right;\">  10  </td><td style=\"text-align: right;\">    0</td><td style=\"text-align: right;\">                2.55</td><td style=\"text-align: right;\">       12.55</td><td>False                   </td><td style=\"text-align: right;\">             1</td><td style=\"text-align: right;\">                   41.8503</td><td style=\"text-align: right;\">                   -87.6676</td><td>POINT (-87.667569312 41.8502663663) </td><td style=\"text-align: right;\">                    41.8174</td><td style=\"text-align: right;\">                    -87.6989</td><td>POINT (-87.6988607973 41.8173662079)</td><td>05/13/2019       </td></tr>\n",
       "<tr><td>&lt;i style=&#x27;opacity: 0.6&#x27;&gt;8&lt;/i&gt;</td><td>c270ec073e3a63e530b380f7ecc73c48d09336f2</td><td>05/16/2019 03:00:00 PM</td><td>05/16/2019 03:45:00 PM</td><td style=\"text-align: right;\">          2725</td><td style=\"text-align: right;\">        27.8</td><td style=\"text-align: right;\">        nan          </td><td style=\"text-align: right;\">           1.7032e+10 </td><td style=\"text-align: right;\">                    nan</td><td style=\"text-align: right;\">                      76</td><td style=\"text-align: right;\">  37.5</td><td style=\"text-align: right;\">    7</td><td style=\"text-align: right;\">               10.36</td><td style=\"text-align: right;\">       54.86</td><td>False                   </td><td style=\"text-align: right;\">             1</td><td style=\"text-align: right;\">                  nan     </td><td style=\"text-align: right;\">                   nan     </td><td>None                                </td><td style=\"text-align: right;\">                    41.9791</td><td style=\"text-align: right;\">                    -87.903 </td><td>POINT (-87.9030396611 41.9790708201)</td><td>05/16/2019       </td></tr>\n",
       "<tr><td>&lt;i style=&#x27;opacity: 0.6&#x27;&gt;9&lt;/i&gt;</td><td>c270ec3719c8a82d878f72b26e3e5e3b3c7d55ce</td><td>04/22/2019 08:45:00 PM</td><td>04/22/2019 09:00:00 PM</td><td style=\"text-align: right;\">           370</td><td style=\"text-align: right;\">         1.3</td><td style=\"text-align: right;\">        nan          </td><td style=\"text-align: right;\">         nan          </td><td style=\"text-align: right;\">                     28</td><td style=\"text-align: right;\">                      31</td><td style=\"text-align: right;\">   5  </td><td style=\"text-align: right;\">    3</td><td style=\"text-align: right;\">                2.55</td><td style=\"text-align: right;\">       10.55</td><td>False                   </td><td style=\"text-align: right;\">             1</td><td style=\"text-align: right;\">                   41.874 </td><td style=\"text-align: right;\">                   -87.6635</td><td>POINT (-87.6635175498 41.874005383) </td><td style=\"text-align: right;\">                    41.8503</td><td style=\"text-align: right;\">                    -87.6676</td><td>POINT (-87.667569312 41.8502663663) </td><td>04/22/2019       </td></tr>\n",
       "</tbody>\n",
       "</table>"
      ],
      "text/plain": [
       "  #  Trip ID                                   Trip Start Timestamp    Trip End Timestamp        Trip Seconds    Trip Miles    Pickup Census Tract    Dropoff Census Tract    Pickup Community Area    Dropoff Community Area    Fare    Tip    Additional Charges    Trip Total  Shared Trip Authorized      Trips Pooled    Pickup Centroid Latitude    Pickup Centroid Longitude  Pickup Centroid Location                Dropoff Centroid Latitude    Dropoff Centroid Longitude  Dropoff Centroid Location             Trip Start Date\n",
       "  0  c270e7aa445974de59f845e2a0ebc9dc6b84c403  06/23/2019 12:30:00 PM  06/23/2019 01:00:00 PM            1745           8.2          nan                     nan                                 21                        28    25        3                  2.55         30.55  False                                  1                     41.9387                     -87.7112  POINT (-87.7112105933 41.9386661962)                      41.874                       -87.6635  POINT (-87.6635175498 41.874005383)   06/23/2019\n",
       "  1  c270e7f286fe731c522a12fc3fa24f3a676e1c09  04/07/2019 11:30:00 PM  04/07/2019 11:30:00 PM             235           0.6            1.70313e+10             1.70318e+10                       32                        32     2.5      0                  2.55          5.05  False                                  1                     41.885                      -87.621   POINT (-87.6209929134 41.8849871918)                      41.881                       -87.6327  POINT (-87.6327464887 41.8809944707)  04/07/2019\n",
       "  2  c270e931c25608efe6a40626e9923b2b269b7bc6  06/25/2019 02:45:00 PM  06/25/2019 03:00:00 PM            1143           3.6            1.70318e+10             1.70313e+10                        7                        32    10        0                  2.55         12.55  False                                  1                     41.9147                     -87.654   POINT (-87.6540070286 41.9147473049)                      41.885                       -87.621   POINT (-87.6209929134 41.8849871918)  06/25/2019\n",
       "  3  c270ea6b9bb98ebc5efa7e05d82bd47576551db1  05/03/2019 08:45:00 PM  05/03/2019 09:00:00 PM            1510           6.5          nan                     nan                                 21                        30    15        0                  2.55         17.55  False                                  1                     41.9387                     -87.7112  POINT (-87.7112105933 41.9386661962)                      41.8391                      -87.714   POINT (-87.714003807 41.8390869059)   05/03/2019\n",
       "  4  c270eaf3ac453fcdfe5f78e307d082c871fa89df  04/25/2019 12:15:00 AM  04/25/2019 12:30:00 AM             450           1.8          nan                     nan                                 41                        41     5        1                  2.55          8.55  True                                   1                     41.7941                     -87.5923  POINT (-87.592310855 41.794090253)                        41.7941                      -87.5923  POINT (-87.592310855 41.794090253)    04/25/2019\n",
       "  5  c270eb7d79ce5d61c85f75e461164990a985d3bf  06/11/2019 06:00:00 PM  06/11/2019 07:00:00 PM            3038          17.2            1.70318e+10             1.70314e+10                       13                        42    30        0                  2.55         32.55  False                                  1                     41.9783                     -87.7164  POINT (-87.7164304157 41.9782942489)                      41.7831                      -87.6084  POINT (-87.6084265019 41.7831007248)  06/11/2019\n",
       "  6  c270ebb2b854a6d8965fc204d43a23ee5c0e8a47  06/11/2019 09:00:00 PM  06/11/2019 09:00:00 PM             731           3.7          nan                     nan                                  5                        24     7.5      0                  0             7.5   True                                   1                     41.9478                     -87.6838  POINT (-87.6838349425 41.9477915865)                      41.9012                      -87.6764  POINT (-87.6763559892 41.9012069941)  06/11/2019\n",
       "  7  c270ebe07d287879ada954b923b30c9fe7fce383  05/13/2019 06:30:00 AM  05/13/2019 06:45:00 AM            1001           4.9          nan                     nan                                 31                        58    10        0                  2.55         12.55  False                                  1                     41.8503                     -87.6676  POINT (-87.667569312 41.8502663663)                       41.8174                      -87.6989  POINT (-87.6988607973 41.8173662079)  05/13/2019\n",
       "  8  c270ec073e3a63e530b380f7ecc73c48d09336f2  05/16/2019 03:00:00 PM  05/16/2019 03:45:00 PM            2725          27.8          nan                       1.7032e+10                       nan                        76    37.5      7                 10.36         54.86  False                                  1                    nan                          nan       None                                                      41.9791                      -87.903   POINT (-87.9030396611 41.9790708201)  05/16/2019\n",
       "  9  c270ec3719c8a82d878f72b26e3e5e3b3c7d55ce  04/22/2019 08:45:00 PM  04/22/2019 09:00:00 PM             370           1.3          nan                     nan                                 28                        31     5        3                  2.55         10.55  False                                  1                     41.874                      -87.6635  POINT (-87.6635175498 41.874005383)                       41.8503                      -87.6676  POINT (-87.667569312 41.8502663663)   04/22/2019"
      ]
     },
     "execution_count": 213,
     "metadata": {},
     "output_type": "execute_result"
    }
   ],
   "source": [
    "df.head()"
   ]
  },
  {
   "cell_type": "code",
   "execution_count": 214,
   "id": "e9187ca8-18e2-4688-9560-de0185cdb9e8",
   "metadata": {
    "tags": []
   },
   "outputs": [],
   "source": [
    "# df['Trip Start Date'] = df['Trip Start Timestamp'].apply(lambda x:  x.str.slice(6, 10) + '-' + x.str.slice(0, 2) + '-' + x.str.slice(3, 5) + '-' +  + 'T' + x.str.slice(11, 13) + ':' + x.str.slice(14, 16) + ':' + x.str.slice(17, 19))\n",
    "df['Trip Start Date'] = df['Trip Start Date'].apply(lambda x: x[6:10] + '-' + x[0:2] + '-' + x[3:5])"
   ]
  },
  {
   "cell_type": "code",
   "execution_count": 215,
   "id": "fceeef2e-5095-4d9b-ab2d-626a0f07b10a",
   "metadata": {},
   "outputs": [
    {
     "data": {
      "text/plain": [
       "Trip ID                       <class 'str'>\n",
       "Trip Start Timestamp          <class 'str'>\n",
       "Trip End Timestamp            <class 'str'>\n",
       "Trip Seconds                        float64\n",
       "Trip Miles                          float64\n",
       "Pickup Census Tract                 float64\n",
       "Dropoff Census Tract                float64\n",
       "Pickup Community Area               float64\n",
       "Dropoff Community Area              float64\n",
       "Fare                                float64\n",
       "Tip                                 float64\n",
       "Additional Charges                  float64\n",
       "Trip Total                          float64\n",
       "Shared Trip Authorized                 bool\n",
       "Trips Pooled                          int64\n",
       "Pickup Centroid Latitude            float64\n",
       "Pickup Centroid Longitude           float64\n",
       "Pickup Centroid Location      <class 'str'>\n",
       "Dropoff Centroid Latitude           float64\n",
       "Dropoff Centroid Longitude          float64\n",
       "Dropoff Centroid Location     <class 'str'>\n",
       "Trip Start Date               <class 'str'>\n",
       "dtype: object"
      ]
     },
     "execution_count": 215,
     "metadata": {},
     "output_type": "execute_result"
    }
   ],
   "source": [
    "df.dtypes"
   ]
  },
  {
   "cell_type": "code",
   "execution_count": 216,
   "id": "8c63ef47-27e4-4e5b-826d-676a63dc766b",
   "metadata": {
    "tags": []
   },
   "outputs": [
    {
     "data": {
      "text/html": [
       "<table>\n",
       "<thead>\n",
       "<tr><th>#                            </th><th>Trip ID                                 </th><th>Trip Start Timestamp  </th><th>Trip End Timestamp    </th><th style=\"text-align: right;\">  Trip Seconds</th><th style=\"text-align: right;\">  Trip Miles</th><th style=\"text-align: right;\">  Pickup Census Tract</th><th style=\"text-align: right;\">  Dropoff Census Tract</th><th style=\"text-align: right;\">  Pickup Community Area</th><th style=\"text-align: right;\">  Dropoff Community Area</th><th style=\"text-align: right;\">  Fare</th><th style=\"text-align: right;\">  Tip</th><th style=\"text-align: right;\">  Additional Charges</th><th style=\"text-align: right;\">  Trip Total</th><th>Shared Trip Authorized  </th><th style=\"text-align: right;\">  Trips Pooled</th><th style=\"text-align: right;\">  Pickup Centroid Latitude</th><th style=\"text-align: right;\">  Pickup Centroid Longitude</th><th>Pickup Centroid Location            </th><th style=\"text-align: right;\">  Dropoff Centroid Latitude</th><th style=\"text-align: right;\">  Dropoff Centroid Longitude</th><th>Dropoff Centroid Location           </th><th>Trip Start Date  </th></tr>\n",
       "</thead>\n",
       "<tbody>\n",
       "<tr><td>&lt;i style=&#x27;opacity: 0.6&#x27;&gt;0&lt;/i&gt;</td><td>c270e7aa445974de59f845e2a0ebc9dc6b84c403</td><td>06/23/2019 12:30:00 PM</td><td>06/23/2019 01:00:00 PM</td><td style=\"text-align: right;\">          1745</td><td style=\"text-align: right;\">         8.2</td><td style=\"text-align: right;\">        nan          </td><td style=\"text-align: right;\">         nan          </td><td style=\"text-align: right;\">                     21</td><td style=\"text-align: right;\">                      28</td><td style=\"text-align: right;\">  25  </td><td style=\"text-align: right;\">    3</td><td style=\"text-align: right;\">                2.55</td><td style=\"text-align: right;\">       30.55</td><td>False                   </td><td style=\"text-align: right;\">             1</td><td style=\"text-align: right;\">                   41.9387</td><td style=\"text-align: right;\">                   -87.7112</td><td>POINT (-87.7112105933 41.9386661962)</td><td style=\"text-align: right;\">                    41.874 </td><td style=\"text-align: right;\">                    -87.6635</td><td>POINT (-87.6635175498 41.874005383) </td><td>2019-06-23       </td></tr>\n",
       "<tr><td>&lt;i style=&#x27;opacity: 0.6&#x27;&gt;1&lt;/i&gt;</td><td>c270e7f286fe731c522a12fc3fa24f3a676e1c09</td><td>04/07/2019 11:30:00 PM</td><td>04/07/2019 11:30:00 PM</td><td style=\"text-align: right;\">           235</td><td style=\"text-align: right;\">         0.6</td><td style=\"text-align: right;\">          1.70313e+10</td><td style=\"text-align: right;\">           1.70318e+10</td><td style=\"text-align: right;\">                     32</td><td style=\"text-align: right;\">                      32</td><td style=\"text-align: right;\">   2.5</td><td style=\"text-align: right;\">    0</td><td style=\"text-align: right;\">                2.55</td><td style=\"text-align: right;\">        5.05</td><td>False                   </td><td style=\"text-align: right;\">             1</td><td style=\"text-align: right;\">                   41.885 </td><td style=\"text-align: right;\">                   -87.621 </td><td>POINT (-87.6209929134 41.8849871918)</td><td style=\"text-align: right;\">                    41.881 </td><td style=\"text-align: right;\">                    -87.6327</td><td>POINT (-87.6327464887 41.8809944707)</td><td>2019-04-07       </td></tr>\n",
       "<tr><td>&lt;i style=&#x27;opacity: 0.6&#x27;&gt;2&lt;/i&gt;</td><td>c270e931c25608efe6a40626e9923b2b269b7bc6</td><td>06/25/2019 02:45:00 PM</td><td>06/25/2019 03:00:00 PM</td><td style=\"text-align: right;\">          1143</td><td style=\"text-align: right;\">         3.6</td><td style=\"text-align: right;\">          1.70318e+10</td><td style=\"text-align: right;\">           1.70313e+10</td><td style=\"text-align: right;\">                      7</td><td style=\"text-align: right;\">                      32</td><td style=\"text-align: right;\">  10  </td><td style=\"text-align: right;\">    0</td><td style=\"text-align: right;\">                2.55</td><td style=\"text-align: right;\">       12.55</td><td>False                   </td><td style=\"text-align: right;\">             1</td><td style=\"text-align: right;\">                   41.9147</td><td style=\"text-align: right;\">                   -87.654 </td><td>POINT (-87.6540070286 41.9147473049)</td><td style=\"text-align: right;\">                    41.885 </td><td style=\"text-align: right;\">                    -87.621 </td><td>POINT (-87.6209929134 41.8849871918)</td><td>2019-06-25       </td></tr>\n",
       "<tr><td>&lt;i style=&#x27;opacity: 0.6&#x27;&gt;3&lt;/i&gt;</td><td>c270ea6b9bb98ebc5efa7e05d82bd47576551db1</td><td>05/03/2019 08:45:00 PM</td><td>05/03/2019 09:00:00 PM</td><td style=\"text-align: right;\">          1510</td><td style=\"text-align: right;\">         6.5</td><td style=\"text-align: right;\">        nan          </td><td style=\"text-align: right;\">         nan          </td><td style=\"text-align: right;\">                     21</td><td style=\"text-align: right;\">                      30</td><td style=\"text-align: right;\">  15  </td><td style=\"text-align: right;\">    0</td><td style=\"text-align: right;\">                2.55</td><td style=\"text-align: right;\">       17.55</td><td>False                   </td><td style=\"text-align: right;\">             1</td><td style=\"text-align: right;\">                   41.9387</td><td style=\"text-align: right;\">                   -87.7112</td><td>POINT (-87.7112105933 41.9386661962)</td><td style=\"text-align: right;\">                    41.8391</td><td style=\"text-align: right;\">                    -87.714 </td><td>POINT (-87.714003807 41.8390869059) </td><td>2019-05-03       </td></tr>\n",
       "<tr><td>&lt;i style=&#x27;opacity: 0.6&#x27;&gt;4&lt;/i&gt;</td><td>c270eaf3ac453fcdfe5f78e307d082c871fa89df</td><td>04/25/2019 12:15:00 AM</td><td>04/25/2019 12:30:00 AM</td><td style=\"text-align: right;\">           450</td><td style=\"text-align: right;\">         1.8</td><td style=\"text-align: right;\">        nan          </td><td style=\"text-align: right;\">         nan          </td><td style=\"text-align: right;\">                     41</td><td style=\"text-align: right;\">                      41</td><td style=\"text-align: right;\">   5  </td><td style=\"text-align: right;\">    1</td><td style=\"text-align: right;\">                2.55</td><td style=\"text-align: right;\">        8.55</td><td>True                    </td><td style=\"text-align: right;\">             1</td><td style=\"text-align: right;\">                   41.7941</td><td style=\"text-align: right;\">                   -87.5923</td><td>POINT (-87.592310855 41.794090253)  </td><td style=\"text-align: right;\">                    41.7941</td><td style=\"text-align: right;\">                    -87.5923</td><td>POINT (-87.592310855 41.794090253)  </td><td>2019-04-25       </td></tr>\n",
       "<tr><td>&lt;i style=&#x27;opacity: 0.6&#x27;&gt;5&lt;/i&gt;</td><td>c270eb7d79ce5d61c85f75e461164990a985d3bf</td><td>06/11/2019 06:00:00 PM</td><td>06/11/2019 07:00:00 PM</td><td style=\"text-align: right;\">          3038</td><td style=\"text-align: right;\">        17.2</td><td style=\"text-align: right;\">          1.70318e+10</td><td style=\"text-align: right;\">           1.70314e+10</td><td style=\"text-align: right;\">                     13</td><td style=\"text-align: right;\">                      42</td><td style=\"text-align: right;\">  30  </td><td style=\"text-align: right;\">    0</td><td style=\"text-align: right;\">                2.55</td><td style=\"text-align: right;\">       32.55</td><td>False                   </td><td style=\"text-align: right;\">             1</td><td style=\"text-align: right;\">                   41.9783</td><td style=\"text-align: right;\">                   -87.7164</td><td>POINT (-87.7164304157 41.9782942489)</td><td style=\"text-align: right;\">                    41.7831</td><td style=\"text-align: right;\">                    -87.6084</td><td>POINT (-87.6084265019 41.7831007248)</td><td>2019-06-11       </td></tr>\n",
       "<tr><td>&lt;i style=&#x27;opacity: 0.6&#x27;&gt;6&lt;/i&gt;</td><td>c270ebb2b854a6d8965fc204d43a23ee5c0e8a47</td><td>06/11/2019 09:00:00 PM</td><td>06/11/2019 09:00:00 PM</td><td style=\"text-align: right;\">           731</td><td style=\"text-align: right;\">         3.7</td><td style=\"text-align: right;\">        nan          </td><td style=\"text-align: right;\">         nan          </td><td style=\"text-align: right;\">                      5</td><td style=\"text-align: right;\">                      24</td><td style=\"text-align: right;\">   7.5</td><td style=\"text-align: right;\">    0</td><td style=\"text-align: right;\">                0   </td><td style=\"text-align: right;\">        7.5 </td><td>True                    </td><td style=\"text-align: right;\">             1</td><td style=\"text-align: right;\">                   41.9478</td><td style=\"text-align: right;\">                   -87.6838</td><td>POINT (-87.6838349425 41.9477915865)</td><td style=\"text-align: right;\">                    41.9012</td><td style=\"text-align: right;\">                    -87.6764</td><td>POINT (-87.6763559892 41.9012069941)</td><td>2019-06-11       </td></tr>\n",
       "<tr><td>&lt;i style=&#x27;opacity: 0.6&#x27;&gt;7&lt;/i&gt;</td><td>c270ebe07d287879ada954b923b30c9fe7fce383</td><td>05/13/2019 06:30:00 AM</td><td>05/13/2019 06:45:00 AM</td><td style=\"text-align: right;\">          1001</td><td style=\"text-align: right;\">         4.9</td><td style=\"text-align: right;\">        nan          </td><td style=\"text-align: right;\">         nan          </td><td style=\"text-align: right;\">                     31</td><td style=\"text-align: right;\">                      58</td><td style=\"text-align: right;\">  10  </td><td style=\"text-align: right;\">    0</td><td style=\"text-align: right;\">                2.55</td><td style=\"text-align: right;\">       12.55</td><td>False                   </td><td style=\"text-align: right;\">             1</td><td style=\"text-align: right;\">                   41.8503</td><td style=\"text-align: right;\">                   -87.6676</td><td>POINT (-87.667569312 41.8502663663) </td><td style=\"text-align: right;\">                    41.8174</td><td style=\"text-align: right;\">                    -87.6989</td><td>POINT (-87.6988607973 41.8173662079)</td><td>2019-05-13       </td></tr>\n",
       "<tr><td>&lt;i style=&#x27;opacity: 0.6&#x27;&gt;8&lt;/i&gt;</td><td>c270ec073e3a63e530b380f7ecc73c48d09336f2</td><td>05/16/2019 03:00:00 PM</td><td>05/16/2019 03:45:00 PM</td><td style=\"text-align: right;\">          2725</td><td style=\"text-align: right;\">        27.8</td><td style=\"text-align: right;\">        nan          </td><td style=\"text-align: right;\">           1.7032e+10 </td><td style=\"text-align: right;\">                    nan</td><td style=\"text-align: right;\">                      76</td><td style=\"text-align: right;\">  37.5</td><td style=\"text-align: right;\">    7</td><td style=\"text-align: right;\">               10.36</td><td style=\"text-align: right;\">       54.86</td><td>False                   </td><td style=\"text-align: right;\">             1</td><td style=\"text-align: right;\">                  nan     </td><td style=\"text-align: right;\">                   nan     </td><td>None                                </td><td style=\"text-align: right;\">                    41.9791</td><td style=\"text-align: right;\">                    -87.903 </td><td>POINT (-87.9030396611 41.9790708201)</td><td>2019-05-16       </td></tr>\n",
       "<tr><td>&lt;i style=&#x27;opacity: 0.6&#x27;&gt;9&lt;/i&gt;</td><td>c270ec3719c8a82d878f72b26e3e5e3b3c7d55ce</td><td>04/22/2019 08:45:00 PM</td><td>04/22/2019 09:00:00 PM</td><td style=\"text-align: right;\">           370</td><td style=\"text-align: right;\">         1.3</td><td style=\"text-align: right;\">        nan          </td><td style=\"text-align: right;\">         nan          </td><td style=\"text-align: right;\">                     28</td><td style=\"text-align: right;\">                      31</td><td style=\"text-align: right;\">   5  </td><td style=\"text-align: right;\">    3</td><td style=\"text-align: right;\">                2.55</td><td style=\"text-align: right;\">       10.55</td><td>False                   </td><td style=\"text-align: right;\">             1</td><td style=\"text-align: right;\">                   41.874 </td><td style=\"text-align: right;\">                   -87.6635</td><td>POINT (-87.6635175498 41.874005383) </td><td style=\"text-align: right;\">                    41.8503</td><td style=\"text-align: right;\">                    -87.6676</td><td>POINT (-87.667569312 41.8502663663) </td><td>2019-04-22       </td></tr>\n",
       "</tbody>\n",
       "</table>"
      ],
      "text/plain": [
       "  #  Trip ID                                   Trip Start Timestamp    Trip End Timestamp        Trip Seconds    Trip Miles    Pickup Census Tract    Dropoff Census Tract    Pickup Community Area    Dropoff Community Area    Fare    Tip    Additional Charges    Trip Total  Shared Trip Authorized      Trips Pooled    Pickup Centroid Latitude    Pickup Centroid Longitude  Pickup Centroid Location                Dropoff Centroid Latitude    Dropoff Centroid Longitude  Dropoff Centroid Location             Trip Start Date\n",
       "  0  c270e7aa445974de59f845e2a0ebc9dc6b84c403  06/23/2019 12:30:00 PM  06/23/2019 01:00:00 PM            1745           8.2          nan                     nan                                 21                        28    25        3                  2.55         30.55  False                                  1                     41.9387                     -87.7112  POINT (-87.7112105933 41.9386661962)                      41.874                       -87.6635  POINT (-87.6635175498 41.874005383)   2019-06-23\n",
       "  1  c270e7f286fe731c522a12fc3fa24f3a676e1c09  04/07/2019 11:30:00 PM  04/07/2019 11:30:00 PM             235           0.6            1.70313e+10             1.70318e+10                       32                        32     2.5      0                  2.55          5.05  False                                  1                     41.885                      -87.621   POINT (-87.6209929134 41.8849871918)                      41.881                       -87.6327  POINT (-87.6327464887 41.8809944707)  2019-04-07\n",
       "  2  c270e931c25608efe6a40626e9923b2b269b7bc6  06/25/2019 02:45:00 PM  06/25/2019 03:00:00 PM            1143           3.6            1.70318e+10             1.70313e+10                        7                        32    10        0                  2.55         12.55  False                                  1                     41.9147                     -87.654   POINT (-87.6540070286 41.9147473049)                      41.885                       -87.621   POINT (-87.6209929134 41.8849871918)  2019-06-25\n",
       "  3  c270ea6b9bb98ebc5efa7e05d82bd47576551db1  05/03/2019 08:45:00 PM  05/03/2019 09:00:00 PM            1510           6.5          nan                     nan                                 21                        30    15        0                  2.55         17.55  False                                  1                     41.9387                     -87.7112  POINT (-87.7112105933 41.9386661962)                      41.8391                      -87.714   POINT (-87.714003807 41.8390869059)   2019-05-03\n",
       "  4  c270eaf3ac453fcdfe5f78e307d082c871fa89df  04/25/2019 12:15:00 AM  04/25/2019 12:30:00 AM             450           1.8          nan                     nan                                 41                        41     5        1                  2.55          8.55  True                                   1                     41.7941                     -87.5923  POINT (-87.592310855 41.794090253)                        41.7941                      -87.5923  POINT (-87.592310855 41.794090253)    2019-04-25\n",
       "  5  c270eb7d79ce5d61c85f75e461164990a985d3bf  06/11/2019 06:00:00 PM  06/11/2019 07:00:00 PM            3038          17.2            1.70318e+10             1.70314e+10                       13                        42    30        0                  2.55         32.55  False                                  1                     41.9783                     -87.7164  POINT (-87.7164304157 41.9782942489)                      41.7831                      -87.6084  POINT (-87.6084265019 41.7831007248)  2019-06-11\n",
       "  6  c270ebb2b854a6d8965fc204d43a23ee5c0e8a47  06/11/2019 09:00:00 PM  06/11/2019 09:00:00 PM             731           3.7          nan                     nan                                  5                        24     7.5      0                  0             7.5   True                                   1                     41.9478                     -87.6838  POINT (-87.6838349425 41.9477915865)                      41.9012                      -87.6764  POINT (-87.6763559892 41.9012069941)  2019-06-11\n",
       "  7  c270ebe07d287879ada954b923b30c9fe7fce383  05/13/2019 06:30:00 AM  05/13/2019 06:45:00 AM            1001           4.9          nan                     nan                                 31                        58    10        0                  2.55         12.55  False                                  1                     41.8503                     -87.6676  POINT (-87.667569312 41.8502663663)                       41.8174                      -87.6989  POINT (-87.6988607973 41.8173662079)  2019-05-13\n",
       "  8  c270ec073e3a63e530b380f7ecc73c48d09336f2  05/16/2019 03:00:00 PM  05/16/2019 03:45:00 PM            2725          27.8          nan                       1.7032e+10                       nan                        76    37.5      7                 10.36         54.86  False                                  1                    nan                          nan       None                                                      41.9791                      -87.903   POINT (-87.9030396611 41.9790708201)  2019-05-16\n",
       "  9  c270ec3719c8a82d878f72b26e3e5e3b3c7d55ce  04/22/2019 08:45:00 PM  04/22/2019 09:00:00 PM             370           1.3          nan                     nan                                 28                        31     5        3                  2.55         10.55  False                                  1                     41.874                      -87.6635  POINT (-87.6635175498 41.874005383)                       41.8503                      -87.6676  POINT (-87.667569312 41.8502663663)   2019-04-22"
      ]
     },
     "execution_count": 216,
     "metadata": {},
     "output_type": "execute_result"
    }
   ],
   "source": [
    "df.head()"
   ]
  },
  {
   "cell_type": "code",
   "execution_count": 217,
   "id": "3230b5a0-70a7-4585-a785-9ff1694d8bf2",
   "metadata": {},
   "outputs": [],
   "source": [
    "from datetime import datetime\n",
    "\n",
    "start = datetime.now()"
   ]
  },
  {
   "cell_type": "code",
   "execution_count": 220,
   "id": "2ff2558c-c667-4e2f-89f6-853721eba0cf",
   "metadata": {},
   "outputs": [],
   "source": [
    "daily_trips = df['Trip Start Date'].value_counts().reset_index().sort_values(by=\"index\")"
   ]
  },
  {
   "cell_type": "code",
   "execution_count": 221,
   "id": "eb80dee0-bc30-4c7b-8dac-516f4671cc6d",
   "metadata": {},
   "outputs": [
    {
     "data": {
      "text/html": [
       "<div>\n",
       "<style scoped>\n",
       "    .dataframe tbody tr th:only-of-type {\n",
       "        vertical-align: middle;\n",
       "    }\n",
       "\n",
       "    .dataframe tbody tr th {\n",
       "        vertical-align: top;\n",
       "    }\n",
       "\n",
       "    .dataframe thead th {\n",
       "        text-align: right;\n",
       "    }\n",
       "</style>\n",
       "<table border=\"1\" class=\"dataframe\">\n",
       "  <thead>\n",
       "    <tr style=\"text-align: right;\">\n",
       "      <th></th>\n",
       "      <th>index</th>\n",
       "      <th>0</th>\n",
       "    </tr>\n",
       "  </thead>\n",
       "  <tbody>\n",
       "    <tr>\n",
       "      <th>227</th>\n",
       "      <td>2018-11-01</td>\n",
       "      <td>287967</td>\n",
       "    </tr>\n",
       "    <tr>\n",
       "      <th>104</th>\n",
       "      <td>2018-11-02</td>\n",
       "      <td>340074</td>\n",
       "    </tr>\n",
       "    <tr>\n",
       "      <th>54</th>\n",
       "      <td>2018-11-03</td>\n",
       "      <td>377623</td>\n",
       "    </tr>\n",
       "    <tr>\n",
       "      <th>178</th>\n",
       "      <td>2018-11-04</td>\n",
       "      <td>302315</td>\n",
       "    </tr>\n",
       "    <tr>\n",
       "      <th>387</th>\n",
       "      <td>2018-11-05</td>\n",
       "      <td>244772</td>\n",
       "    </tr>\n",
       "    <tr>\n",
       "      <th>...</th>\n",
       "      <td>...</td>\n",
       "      <td>...</td>\n",
       "    </tr>\n",
       "    <tr>\n",
       "      <th>327</th>\n",
       "      <td>2019-12-27</td>\n",
       "      <td>261772</td>\n",
       "    </tr>\n",
       "    <tr>\n",
       "      <th>213</th>\n",
       "      <td>2019-12-28</td>\n",
       "      <td>292073</td>\n",
       "    </tr>\n",
       "    <tr>\n",
       "      <th>385</th>\n",
       "      <td>2019-12-29</td>\n",
       "      <td>246370</td>\n",
       "    </tr>\n",
       "    <tr>\n",
       "      <th>355</th>\n",
       "      <td>2019-12-30</td>\n",
       "      <td>255826</td>\n",
       "    </tr>\n",
       "    <tr>\n",
       "      <th>148</th>\n",
       "      <td>2019-12-31</td>\n",
       "      <td>311751</td>\n",
       "    </tr>\n",
       "  </tbody>\n",
       "</table>\n",
       "<p>426 rows × 2 columns</p>\n",
       "</div>"
      ],
      "text/plain": [
       "          index       0\n",
       "227  2018-11-01  287967\n",
       "104  2018-11-02  340074\n",
       "54   2018-11-03  377623\n",
       "178  2018-11-04  302315\n",
       "387  2018-11-05  244772\n",
       "..          ...     ...\n",
       "327  2019-12-27  261772\n",
       "213  2019-12-28  292073\n",
       "385  2019-12-29  246370\n",
       "355  2019-12-30  255826\n",
       "148  2019-12-31  311751\n",
       "\n",
       "[426 rows x 2 columns]"
      ]
     },
     "execution_count": 221,
     "metadata": {},
     "output_type": "execute_result"
    }
   ],
   "source": [
    "daily_trips"
   ]
  },
  {
   "cell_type": "code",
   "execution_count": 195,
   "id": "f886da21-bdd6-441b-ab2f-42688012ffff",
   "metadata": {},
   "outputs": [],
   "source": []
  },
  {
   "cell_type": "code",
   "execution_count": 222,
   "id": "366d925e-60a5-4d53-922c-557ef143be5d",
   "metadata": {},
   "outputs": [
    {
     "name": "stdout",
     "output_type": "stream",
     "text": [
      "the process took 0:11:27.675215 minutes\n"
     ]
    }
   ],
   "source": [
    "end = datetime.now()\n",
    "\n",
    "print(f\"the process took {end - start} minutes\")"
   ]
  },
  {
   "cell_type": "code",
   "execution_count": null,
   "id": "cc81b8b1-ff2e-4a6d-98ee-d236928d3381",
   "metadata": {},
   "outputs": [],
   "source": []
  },
  {
   "cell_type": "code",
   "execution_count": 223,
   "id": "12f35aab-c003-45e5-8c35-b6c27ecbfd0c",
   "metadata": {},
   "outputs": [],
   "source": [
    "daily_trips.columns=['date', 'count']"
   ]
  },
  {
   "cell_type": "code",
   "execution_count": 224,
   "id": "120aad01-2696-4d4c-9b67-991be4d794c2",
   "metadata": {},
   "outputs": [
    {
     "data": {
      "text/html": [
       "<div>\n",
       "<style scoped>\n",
       "    .dataframe tbody tr th:only-of-type {\n",
       "        vertical-align: middle;\n",
       "    }\n",
       "\n",
       "    .dataframe tbody tr th {\n",
       "        vertical-align: top;\n",
       "    }\n",
       "\n",
       "    .dataframe thead th {\n",
       "        text-align: right;\n",
       "    }\n",
       "</style>\n",
       "<table border=\"1\" class=\"dataframe\">\n",
       "  <thead>\n",
       "    <tr style=\"text-align: right;\">\n",
       "      <th></th>\n",
       "      <th>date</th>\n",
       "      <th>count</th>\n",
       "    </tr>\n",
       "  </thead>\n",
       "  <tbody>\n",
       "    <tr>\n",
       "      <th>227</th>\n",
       "      <td>2018-11-01</td>\n",
       "      <td>287967</td>\n",
       "    </tr>\n",
       "    <tr>\n",
       "      <th>104</th>\n",
       "      <td>2018-11-02</td>\n",
       "      <td>340074</td>\n",
       "    </tr>\n",
       "    <tr>\n",
       "      <th>54</th>\n",
       "      <td>2018-11-03</td>\n",
       "      <td>377623</td>\n",
       "    </tr>\n",
       "    <tr>\n",
       "      <th>178</th>\n",
       "      <td>2018-11-04</td>\n",
       "      <td>302315</td>\n",
       "    </tr>\n",
       "    <tr>\n",
       "      <th>387</th>\n",
       "      <td>2018-11-05</td>\n",
       "      <td>244772</td>\n",
       "    </tr>\n",
       "  </tbody>\n",
       "</table>\n",
       "</div>"
      ],
      "text/plain": [
       "           date   count\n",
       "227  2018-11-01  287967\n",
       "104  2018-11-02  340074\n",
       "54   2018-11-03  377623\n",
       "178  2018-11-04  302315\n",
       "387  2018-11-05  244772"
      ]
     },
     "execution_count": 224,
     "metadata": {},
     "output_type": "execute_result"
    }
   ],
   "source": [
    "daily_trips.head()"
   ]
  },
  {
   "cell_type": "code",
   "execution_count": 225,
   "id": "6bde142c-2aef-4cdd-8d00-7ac603b2094a",
   "metadata": {
    "tags": []
   },
   "outputs": [
    {
     "name": "stderr",
     "output_type": "stream",
     "text": [
      "INFO:MainThread:matplotlib.category:Using categorical units to plot a list of strings that are all parsable as floats or dates. If these strings should be plotted as numbers, cast to the appropriate data type before plotting.\n",
      "INFO:MainThread:matplotlib.category:Using categorical units to plot a list of strings that are all parsable as floats or dates. If these strings should be plotted as numbers, cast to the appropriate data type before plotting.\n"
     ]
    },
    {
     "data": {
      "text/plain": [
       "<BarContainer object of 426 artists>"
      ]
     },
     "execution_count": 225,
     "metadata": {},
     "output_type": "execute_result"
    },
    {
     "data": {
      "image/png": "[encoded data removed]",
      "text/plain": [
       "<Figure size 3200x480 with 1 Axes>"
      ]
     },
     "metadata": {
      "needs_background": "light"
     },
     "output_type": "display_data"
    }
   ],
   "source": [
    "import matplotlib.pyplot as plt\n",
    "plt.figure(figsize=(40, 6), dpi=80)\n",
    "\n",
    "plt.bar(x=daily_trips['date'], height=daily_trips['count'], width=2)"
   ]
  },
  {
   "cell_type": "code",
   "execution_count": 226,
   "id": "d477b7d7-db4c-438e-bdf4-2df1487d7eec",
   "metadata": {},
   "outputs": [
    {
     "data": {
      "text/plain": [
       "<AxesSubplot:>"
      ]
     },
     "execution_count": 226,
     "metadata": {},
     "output_type": "execute_result"
    },
    {
     "data": {
      "image/png": "[encoded data removed]",
      "text/plain": [
       "<Figure size 432x288 with 1 Axes>"
      ]
     },
     "metadata": {
      "needs_background": "light"
     },
     "output_type": "display_data"
    }
   ],
   "source": [
    "daily_trips.plot.bar()"
   ]
  },
  {
   "cell_type": "code",
   "execution_count": 227,
   "id": "666f8ec5-6897-4123-99f7-3215abf9051e",
   "metadata": {},
   "outputs": [
    {
     "name": "stderr",
     "output_type": "stream",
     "text": [
      "INFO:MainThread:matplotlib.category:Using categorical units to plot a list of strings that are all parsable as floats or dates. If these strings should be plotted as numbers, cast to the appropriate data type before plotting.\n",
      "INFO:MainThread:matplotlib.category:Using categorical units to plot a list of strings that are all parsable as floats or dates. If these strings should be plotted as numbers, cast to the appropriate data type before plotting.\n"
     ]
    },
    {
     "data": {
      "text/plain": [
       "<BarContainer object of 14 artists>"
      ]
     },
     "execution_count": 227,
     "metadata": {},
     "output_type": "execute_result"
    },
    {
     "data": {
      "image/png": "[encoded data removed]",
      "text/plain": [
       "<Figure size 3200x480 with 1 Axes>"
      ]
     },
     "metadata": {
      "needs_background": "light"
     },
     "output_type": "display_data"
    }
   ],
   "source": [
    "import matplotlib.pyplot as plt\n",
    "plt.figure(figsize=(40, 6), dpi=80)\n",
    "\n",
    "plt.bar(x=daily_trips['date'][0:14], height=daily_trips['count'][0:14], width=2)"
   ]
  },
  {
   "cell_type": "code",
   "execution_count": null,
   "id": "70648bf6-4bf8-46e4-b7b8-55fc1e4e2086",
   "metadata": {},
   "outputs": [],
   "source": [
    "# shows a weekly pattern"
   ]
  },
  {
   "cell_type": "code",
   "execution_count": null,
   "id": "834f7416-1880-4cbc-97c6-0d917423a89f",
   "metadata": {},
   "outputs": [],
   "source": []
  },
  {
   "cell_type": "code",
   "execution_count": 234,
   "id": "3fd492c2-99fe-4fbd-88f6-b8d70041f526",
   "metadata": {},
   "outputs": [],
   "source": [
    "# how to convert to datetime\n",
    "\n",
    "from datetime import datetime\n",
    "\n",
    "# Dateframe format:  06/23/2019 12:30:00 PM\n",
    "def convert_to_datetime(date_string):\n",
    "    return datetime.strptime(date_string, \"%m/%d/%Y %I:%M:%S %p\")\n",
    "\n",
    "df['Trip Start Datetime']  = df['Trip Start Timestamp'].apply(convert_to_datetime)"
   ]
  },
  {
   "cell_type": "code",
   "execution_count": 235,
   "id": "40a6dbc8-859d-4855-a6c5-9bbe2a35cd20",
   "metadata": {},
   "outputs": [
    {
     "data": {
      "text/html": [
       "<table>\n",
       "<thead>\n",
       "<tr><th>#                            </th><th>Trip ID                                 </th><th>Trip Start Timestamp  </th><th>Trip End Timestamp    </th><th style=\"text-align: right;\">  Trip Seconds</th><th style=\"text-align: right;\">  Trip Miles</th><th style=\"text-align: right;\">  Pickup Census Tract</th><th style=\"text-align: right;\">  Dropoff Census Tract</th><th style=\"text-align: right;\">  Pickup Community Area</th><th style=\"text-align: right;\">  Dropoff Community Area</th><th style=\"text-align: right;\">  Fare</th><th style=\"text-align: right;\">  Tip</th><th style=\"text-align: right;\">  Additional Charges</th><th style=\"text-align: right;\">  Trip Total</th><th>Shared Trip Authorized  </th><th style=\"text-align: right;\">  Trips Pooled</th><th style=\"text-align: right;\">  Pickup Centroid Latitude</th><th style=\"text-align: right;\">  Pickup Centroid Longitude</th><th>Pickup Centroid Location            </th><th style=\"text-align: right;\">  Dropoff Centroid Latitude</th><th style=\"text-align: right;\">  Dropoff Centroid Longitude</th><th>Dropoff Centroid Location           </th><th>Trip Start Date  </th><th>Trip Start Datetime  </th></tr>\n",
       "</thead>\n",
       "<tbody>\n",
       "<tr><td>&lt;i style=&#x27;opacity: 0.6&#x27;&gt;0&lt;/i&gt;</td><td>c270e7aa445974de59f845e2a0ebc9dc6b84c403</td><td>06/23/2019 12:30:00 PM</td><td>06/23/2019 01:00:00 PM</td><td style=\"text-align: right;\">          1745</td><td style=\"text-align: right;\">         8.2</td><td style=\"text-align: right;\">        nan          </td><td style=\"text-align: right;\">         nan          </td><td style=\"text-align: right;\">                     21</td><td style=\"text-align: right;\">                      28</td><td style=\"text-align: right;\">  25  </td><td style=\"text-align: right;\">    3</td><td style=\"text-align: right;\">                2.55</td><td style=\"text-align: right;\">       30.55</td><td>False                   </td><td style=\"text-align: right;\">             1</td><td style=\"text-align: right;\">                   41.9387</td><td style=\"text-align: right;\">                   -87.7112</td><td>POINT (-87.7112105933 41.9386661962)</td><td style=\"text-align: right;\">                    41.874 </td><td style=\"text-align: right;\">                    -87.6635</td><td>POINT (-87.6635175498 41.874005383) </td><td>2019-06-23       </td><td>2019-06-23 12:30:00  </td></tr>\n",
       "<tr><td>&lt;i style=&#x27;opacity: 0.6&#x27;&gt;1&lt;/i&gt;</td><td>c270e7f286fe731c522a12fc3fa24f3a676e1c09</td><td>04/07/2019 11:30:00 PM</td><td>04/07/2019 11:30:00 PM</td><td style=\"text-align: right;\">           235</td><td style=\"text-align: right;\">         0.6</td><td style=\"text-align: right;\">          1.70313e+10</td><td style=\"text-align: right;\">           1.70318e+10</td><td style=\"text-align: right;\">                     32</td><td style=\"text-align: right;\">                      32</td><td style=\"text-align: right;\">   2.5</td><td style=\"text-align: right;\">    0</td><td style=\"text-align: right;\">                2.55</td><td style=\"text-align: right;\">        5.05</td><td>False                   </td><td style=\"text-align: right;\">             1</td><td style=\"text-align: right;\">                   41.885 </td><td style=\"text-align: right;\">                   -87.621 </td><td>POINT (-87.6209929134 41.8849871918)</td><td style=\"text-align: right;\">                    41.881 </td><td style=\"text-align: right;\">                    -87.6327</td><td>POINT (-87.6327464887 41.8809944707)</td><td>2019-04-07       </td><td>2019-04-07 23:30:00  </td></tr>\n",
       "<tr><td>&lt;i style=&#x27;opacity: 0.6&#x27;&gt;2&lt;/i&gt;</td><td>c270e931c25608efe6a40626e9923b2b269b7bc6</td><td>06/25/2019 02:45:00 PM</td><td>06/25/2019 03:00:00 PM</td><td style=\"text-align: right;\">          1143</td><td style=\"text-align: right;\">         3.6</td><td style=\"text-align: right;\">          1.70318e+10</td><td style=\"text-align: right;\">           1.70313e+10</td><td style=\"text-align: right;\">                      7</td><td style=\"text-align: right;\">                      32</td><td style=\"text-align: right;\">  10  </td><td style=\"text-align: right;\">    0</td><td style=\"text-align: right;\">                2.55</td><td style=\"text-align: right;\">       12.55</td><td>False                   </td><td style=\"text-align: right;\">             1</td><td style=\"text-align: right;\">                   41.9147</td><td style=\"text-align: right;\">                   -87.654 </td><td>POINT (-87.6540070286 41.9147473049)</td><td style=\"text-align: right;\">                    41.885 </td><td style=\"text-align: right;\">                    -87.621 </td><td>POINT (-87.6209929134 41.8849871918)</td><td>2019-06-25       </td><td>2019-06-25 14:45:00  </td></tr>\n",
       "<tr><td>&lt;i style=&#x27;opacity: 0.6&#x27;&gt;3&lt;/i&gt;</td><td>c270ea6b9bb98ebc5efa7e05d82bd47576551db1</td><td>05/03/2019 08:45:00 PM</td><td>05/03/2019 09:00:00 PM</td><td style=\"text-align: right;\">          1510</td><td style=\"text-align: right;\">         6.5</td><td style=\"text-align: right;\">        nan          </td><td style=\"text-align: right;\">         nan          </td><td style=\"text-align: right;\">                     21</td><td style=\"text-align: right;\">                      30</td><td style=\"text-align: right;\">  15  </td><td style=\"text-align: right;\">    0</td><td style=\"text-align: right;\">                2.55</td><td style=\"text-align: right;\">       17.55</td><td>False                   </td><td style=\"text-align: right;\">             1</td><td style=\"text-align: right;\">                   41.9387</td><td style=\"text-align: right;\">                   -87.7112</td><td>POINT (-87.7112105933 41.9386661962)</td><td style=\"text-align: right;\">                    41.8391</td><td style=\"text-align: right;\">                    -87.714 </td><td>POINT (-87.714003807 41.8390869059) </td><td>2019-05-03       </td><td>2019-05-03 20:45:00  </td></tr>\n",
       "<tr><td>&lt;i style=&#x27;opacity: 0.6&#x27;&gt;4&lt;/i&gt;</td><td>c270eaf3ac453fcdfe5f78e307d082c871fa89df</td><td>04/25/2019 12:15:00 AM</td><td>04/25/2019 12:30:00 AM</td><td style=\"text-align: right;\">           450</td><td style=\"text-align: right;\">         1.8</td><td style=\"text-align: right;\">        nan          </td><td style=\"text-align: right;\">         nan          </td><td style=\"text-align: right;\">                     41</td><td style=\"text-align: right;\">                      41</td><td style=\"text-align: right;\">   5  </td><td style=\"text-align: right;\">    1</td><td style=\"text-align: right;\">                2.55</td><td style=\"text-align: right;\">        8.55</td><td>True                    </td><td style=\"text-align: right;\">             1</td><td style=\"text-align: right;\">                   41.7941</td><td style=\"text-align: right;\">                   -87.5923</td><td>POINT (-87.592310855 41.794090253)  </td><td style=\"text-align: right;\">                    41.7941</td><td style=\"text-align: right;\">                    -87.5923</td><td>POINT (-87.592310855 41.794090253)  </td><td>2019-04-25       </td><td>2019-04-25 00:15:00  </td></tr>\n",
       "<tr><td>&lt;i style=&#x27;opacity: 0.6&#x27;&gt;5&lt;/i&gt;</td><td>c270eb7d79ce5d61c85f75e461164990a985d3bf</td><td>06/11/2019 06:00:00 PM</td><td>06/11/2019 07:00:00 PM</td><td style=\"text-align: right;\">          3038</td><td style=\"text-align: right;\">        17.2</td><td style=\"text-align: right;\">          1.70318e+10</td><td style=\"text-align: right;\">           1.70314e+10</td><td style=\"text-align: right;\">                     13</td><td style=\"text-align: right;\">                      42</td><td style=\"text-align: right;\">  30  </td><td style=\"text-align: right;\">    0</td><td style=\"text-align: right;\">                2.55</td><td style=\"text-align: right;\">       32.55</td><td>False                   </td><td style=\"text-align: right;\">             1</td><td style=\"text-align: right;\">                   41.9783</td><td style=\"text-align: right;\">                   -87.7164</td><td>POINT (-87.7164304157 41.9782942489)</td><td style=\"text-align: right;\">                    41.7831</td><td style=\"text-align: right;\">                    -87.6084</td><td>POINT (-87.6084265019 41.7831007248)</td><td>2019-06-11       </td><td>2019-06-11 18:00:00  </td></tr>\n",
       "<tr><td>&lt;i style=&#x27;opacity: 0.6&#x27;&gt;6&lt;/i&gt;</td><td>c270ebb2b854a6d8965fc204d43a23ee5c0e8a47</td><td>06/11/2019 09:00:00 PM</td><td>06/11/2019 09:00:00 PM</td><td style=\"text-align: right;\">           731</td><td style=\"text-align: right;\">         3.7</td><td style=\"text-align: right;\">        nan          </td><td style=\"text-align: right;\">         nan          </td><td style=\"text-align: right;\">                      5</td><td style=\"text-align: right;\">                      24</td><td style=\"text-align: right;\">   7.5</td><td style=\"text-align: right;\">    0</td><td style=\"text-align: right;\">                0   </td><td style=\"text-align: right;\">        7.5 </td><td>True                    </td><td style=\"text-align: right;\">             1</td><td style=\"text-align: right;\">                   41.9478</td><td style=\"text-align: right;\">                   -87.6838</td><td>POINT (-87.6838349425 41.9477915865)</td><td style=\"text-align: right;\">                    41.9012</td><td style=\"text-align: right;\">                    -87.6764</td><td>POINT (-87.6763559892 41.9012069941)</td><td>2019-06-11       </td><td>2019-06-11 21:00:00  </td></tr>\n",
       "<tr><td>&lt;i style=&#x27;opacity: 0.6&#x27;&gt;7&lt;/i&gt;</td><td>c270ebe07d287879ada954b923b30c9fe7fce383</td><td>05/13/2019 06:30:00 AM</td><td>05/13/2019 06:45:00 AM</td><td style=\"text-align: right;\">          1001</td><td style=\"text-align: right;\">         4.9</td><td style=\"text-align: right;\">        nan          </td><td style=\"text-align: right;\">         nan          </td><td style=\"text-align: right;\">                     31</td><td style=\"text-align: right;\">                      58</td><td style=\"text-align: right;\">  10  </td><td style=\"text-align: right;\">    0</td><td style=\"text-align: right;\">                2.55</td><td style=\"text-align: right;\">       12.55</td><td>False                   </td><td style=\"text-align: right;\">             1</td><td style=\"text-align: right;\">                   41.8503</td><td style=\"text-align: right;\">                   -87.6676</td><td>POINT (-87.667569312 41.8502663663) </td><td style=\"text-align: right;\">                    41.8174</td><td style=\"text-align: right;\">                    -87.6989</td><td>POINT (-87.6988607973 41.8173662079)</td><td>2019-05-13       </td><td>2019-05-13 06:30:00  </td></tr>\n",
       "<tr><td>&lt;i style=&#x27;opacity: 0.6&#x27;&gt;8&lt;/i&gt;</td><td>c270ec073e3a63e530b380f7ecc73c48d09336f2</td><td>05/16/2019 03:00:00 PM</td><td>05/16/2019 03:45:00 PM</td><td style=\"text-align: right;\">          2725</td><td style=\"text-align: right;\">        27.8</td><td style=\"text-align: right;\">        nan          </td><td style=\"text-align: right;\">           1.7032e+10 </td><td style=\"text-align: right;\">                    nan</td><td style=\"text-align: right;\">                      76</td><td style=\"text-align: right;\">  37.5</td><td style=\"text-align: right;\">    7</td><td style=\"text-align: right;\">               10.36</td><td style=\"text-align: right;\">       54.86</td><td>False                   </td><td style=\"text-align: right;\">             1</td><td style=\"text-align: right;\">                  nan     </td><td style=\"text-align: right;\">                   nan     </td><td>None                                </td><td style=\"text-align: right;\">                    41.9791</td><td style=\"text-align: right;\">                    -87.903 </td><td>POINT (-87.9030396611 41.9790708201)</td><td>2019-05-16       </td><td>2019-05-16 15:00:00  </td></tr>\n",
       "<tr><td>&lt;i style=&#x27;opacity: 0.6&#x27;&gt;9&lt;/i&gt;</td><td>c270ec3719c8a82d878f72b26e3e5e3b3c7d55ce</td><td>04/22/2019 08:45:00 PM</td><td>04/22/2019 09:00:00 PM</td><td style=\"text-align: right;\">           370</td><td style=\"text-align: right;\">         1.3</td><td style=\"text-align: right;\">        nan          </td><td style=\"text-align: right;\">         nan          </td><td style=\"text-align: right;\">                     28</td><td style=\"text-align: right;\">                      31</td><td style=\"text-align: right;\">   5  </td><td style=\"text-align: right;\">    3</td><td style=\"text-align: right;\">                2.55</td><td style=\"text-align: right;\">       10.55</td><td>False                   </td><td style=\"text-align: right;\">             1</td><td style=\"text-align: right;\">                   41.874 </td><td style=\"text-align: right;\">                   -87.6635</td><td>POINT (-87.6635175498 41.874005383) </td><td style=\"text-align: right;\">                    41.8503</td><td style=\"text-align: right;\">                    -87.6676</td><td>POINT (-87.667569312 41.8502663663) </td><td>2019-04-22       </td><td>2019-04-22 20:45:00  </td></tr>\n",
       "</tbody>\n",
       "</table>"
      ],
      "text/plain": [
       "  #  Trip ID                                   Trip Start Timestamp    Trip End Timestamp        Trip Seconds    Trip Miles    Pickup Census Tract    Dropoff Census Tract    Pickup Community Area    Dropoff Community Area    Fare    Tip    Additional Charges    Trip Total  Shared Trip Authorized      Trips Pooled    Pickup Centroid Latitude    Pickup Centroid Longitude  Pickup Centroid Location                Dropoff Centroid Latitude    Dropoff Centroid Longitude  Dropoff Centroid Location             Trip Start Date    Trip Start Datetime\n",
       "  0  c270e7aa445974de59f845e2a0ebc9dc6b84c403  06/23/2019 12:30:00 PM  06/23/2019 01:00:00 PM            1745           8.2          nan                     nan                                 21                        28    25        3                  2.55         30.55  False                                  1                     41.9387                     -87.7112  POINT (-87.7112105933 41.9386661962)                      41.874                       -87.6635  POINT (-87.6635175498 41.874005383)   2019-06-23         2019-06-23 12:30:00\n",
       "  1  c270e7f286fe731c522a12fc3fa24f3a676e1c09  04/07/2019 11:30:00 PM  04/07/2019 11:30:00 PM             235           0.6            1.70313e+10             1.70318e+10                       32                        32     2.5      0                  2.55          5.05  False                                  1                     41.885                      -87.621   POINT (-87.6209929134 41.8849871918)                      41.881                       -87.6327  POINT (-87.6327464887 41.8809944707)  2019-04-07         2019-04-07 23:30:00\n",
       "  2  c270e931c25608efe6a40626e9923b2b269b7bc6  06/25/2019 02:45:00 PM  06/25/2019 03:00:00 PM            1143           3.6            1.70318e+10             1.70313e+10                        7                        32    10        0                  2.55         12.55  False                                  1                     41.9147                     -87.654   POINT (-87.6540070286 41.9147473049)                      41.885                       -87.621   POINT (-87.6209929134 41.8849871918)  2019-06-25         2019-06-25 14:45:00\n",
       "  3  c270ea6b9bb98ebc5efa7e05d82bd47576551db1  05/03/2019 08:45:00 PM  05/03/2019 09:00:00 PM            1510           6.5          nan                     nan                                 21                        30    15        0                  2.55         17.55  False                                  1                     41.9387                     -87.7112  POINT (-87.7112105933 41.9386661962)                      41.8391                      -87.714   POINT (-87.714003807 41.8390869059)   2019-05-03         2019-05-03 20:45:00\n",
       "  4  c270eaf3ac453fcdfe5f78e307d082c871fa89df  04/25/2019 12:15:00 AM  04/25/2019 12:30:00 AM             450           1.8          nan                     nan                                 41                        41     5        1                  2.55          8.55  True                                   1                     41.7941                     -87.5923  POINT (-87.592310855 41.794090253)                        41.7941                      -87.5923  POINT (-87.592310855 41.794090253)    2019-04-25         2019-04-25 00:15:00\n",
       "  5  c270eb7d79ce5d61c85f75e461164990a985d3bf  06/11/2019 06:00:00 PM  06/11/2019 07:00:00 PM            3038          17.2            1.70318e+10             1.70314e+10                       13                        42    30        0                  2.55         32.55  False                                  1                     41.9783                     -87.7164  POINT (-87.7164304157 41.9782942489)                      41.7831                      -87.6084  POINT (-87.6084265019 41.7831007248)  2019-06-11         2019-06-11 18:00:00\n",
       "  6  c270ebb2b854a6d8965fc204d43a23ee5c0e8a47  06/11/2019 09:00:00 PM  06/11/2019 09:00:00 PM             731           3.7          nan                     nan                                  5                        24     7.5      0                  0             7.5   True                                   1                     41.9478                     -87.6838  POINT (-87.6838349425 41.9477915865)                      41.9012                      -87.6764  POINT (-87.6763559892 41.9012069941)  2019-06-11         2019-06-11 21:00:00\n",
       "  7  c270ebe07d287879ada954b923b30c9fe7fce383  05/13/2019 06:30:00 AM  05/13/2019 06:45:00 AM            1001           4.9          nan                     nan                                 31                        58    10        0                  2.55         12.55  False                                  1                     41.8503                     -87.6676  POINT (-87.667569312 41.8502663663)                       41.8174                      -87.6989  POINT (-87.6988607973 41.8173662079)  2019-05-13         2019-05-13 06:30:00\n",
       "  8  c270ec073e3a63e530b380f7ecc73c48d09336f2  05/16/2019 03:00:00 PM  05/16/2019 03:45:00 PM            2725          27.8          nan                       1.7032e+10                       nan                        76    37.5      7                 10.36         54.86  False                                  1                    nan                          nan       None                                                      41.9791                      -87.903   POINT (-87.9030396611 41.9790708201)  2019-05-16         2019-05-16 15:00:00\n",
       "  9  c270ec3719c8a82d878f72b26e3e5e3b3c7d55ce  04/22/2019 08:45:00 PM  04/22/2019 09:00:00 PM             370           1.3          nan                     nan                                 28                        31     5        3                  2.55         10.55  False                                  1                     41.874                      -87.6635  POINT (-87.6635175498 41.874005383)                       41.8503                      -87.6676  POINT (-87.667569312 41.8502663663)   2019-04-22         2019-04-22 20:45:00"
      ]
     },
     "execution_count": 235,
     "metadata": {},
     "output_type": "execute_result"
    }
   ],
   "source": [
    "df.head()"
   ]
  },
  {
   "cell_type": "code",
   "execution_count": 238,
   "id": "1dc01519-59f2-4351-820b-0649a593d54c",
   "metadata": {
    "tags": []
   },
   "outputs": [],
   "source": [
    "# Dateframe format:  06/23/2019 12:30:00 PM\n",
    "def convert_to_datetime(date_as_datetime):\n",
    "    return datetime.strftime(date_as_datetime, \"%a\")\n",
    "\n",
    "df['day_week']  = df['Trip Start Datetime'].apply(convert_to_datetime)"
   ]
  },
  {
   "cell_type": "code",
   "execution_count": 239,
   "id": "5028df87-d6c3-4f60-af50-b1d5d7674cbb",
   "metadata": {
    "tags": []
   },
   "outputs": [
    {
     "data": {
      "text/html": [
       "<table>\n",
       "<thead>\n",
       "<tr><th>#                            </th><th>Trip ID                                 </th><th>Trip Start Timestamp  </th><th>Trip End Timestamp    </th><th style=\"text-align: right;\">  Trip Seconds</th><th style=\"text-align: right;\">  Trip Miles</th><th style=\"text-align: right;\">  Pickup Census Tract</th><th style=\"text-align: right;\">  Dropoff Census Tract</th><th style=\"text-align: right;\">  Pickup Community Area</th><th style=\"text-align: right;\">  Dropoff Community Area</th><th style=\"text-align: right;\">  Fare</th><th style=\"text-align: right;\">  Tip</th><th style=\"text-align: right;\">  Additional Charges</th><th style=\"text-align: right;\">  Trip Total</th><th>Shared Trip Authorized  </th><th style=\"text-align: right;\">  Trips Pooled</th><th style=\"text-align: right;\">  Pickup Centroid Latitude</th><th style=\"text-align: right;\">  Pickup Centroid Longitude</th><th>Pickup Centroid Location            </th><th style=\"text-align: right;\">  Dropoff Centroid Latitude</th><th style=\"text-align: right;\">  Dropoff Centroid Longitude</th><th>Dropoff Centroid Location           </th><th>Trip Start Date  </th><th>Trip Start Datetime  </th><th>day_week  </th></tr>\n",
       "</thead>\n",
       "<tbody>\n",
       "<tr><td>&lt;i style=&#x27;opacity: 0.6&#x27;&gt;0&lt;/i&gt;</td><td>c270e7aa445974de59f845e2a0ebc9dc6b84c403</td><td>06/23/2019 12:30:00 PM</td><td>06/23/2019 01:00:00 PM</td><td style=\"text-align: right;\">          1745</td><td style=\"text-align: right;\">         8.2</td><td style=\"text-align: right;\">        nan          </td><td style=\"text-align: right;\">         nan          </td><td style=\"text-align: right;\">                     21</td><td style=\"text-align: right;\">                      28</td><td style=\"text-align: right;\">  25  </td><td style=\"text-align: right;\">    3</td><td style=\"text-align: right;\">                2.55</td><td style=\"text-align: right;\">       30.55</td><td>False                   </td><td style=\"text-align: right;\">             1</td><td style=\"text-align: right;\">                   41.9387</td><td style=\"text-align: right;\">                   -87.7112</td><td>POINT (-87.7112105933 41.9386661962)</td><td style=\"text-align: right;\">                    41.874 </td><td style=\"text-align: right;\">                    -87.6635</td><td>POINT (-87.6635175498 41.874005383) </td><td>2019-06-23       </td><td>2019-06-23 12:30:00  </td><td>Sun       </td></tr>\n",
       "<tr><td>&lt;i style=&#x27;opacity: 0.6&#x27;&gt;1&lt;/i&gt;</td><td>c270e7f286fe731c522a12fc3fa24f3a676e1c09</td><td>04/07/2019 11:30:00 PM</td><td>04/07/2019 11:30:00 PM</td><td style=\"text-align: right;\">           235</td><td style=\"text-align: right;\">         0.6</td><td style=\"text-align: right;\">          1.70313e+10</td><td style=\"text-align: right;\">           1.70318e+10</td><td style=\"text-align: right;\">                     32</td><td style=\"text-align: right;\">                      32</td><td style=\"text-align: right;\">   2.5</td><td style=\"text-align: right;\">    0</td><td style=\"text-align: right;\">                2.55</td><td style=\"text-align: right;\">        5.05</td><td>False                   </td><td style=\"text-align: right;\">             1</td><td style=\"text-align: right;\">                   41.885 </td><td style=\"text-align: right;\">                   -87.621 </td><td>POINT (-87.6209929134 41.8849871918)</td><td style=\"text-align: right;\">                    41.881 </td><td style=\"text-align: right;\">                    -87.6327</td><td>POINT (-87.6327464887 41.8809944707)</td><td>2019-04-07       </td><td>2019-04-07 23:30:00  </td><td>Sun       </td></tr>\n",
       "<tr><td>&lt;i style=&#x27;opacity: 0.6&#x27;&gt;2&lt;/i&gt;</td><td>c270e931c25608efe6a40626e9923b2b269b7bc6</td><td>06/25/2019 02:45:00 PM</td><td>06/25/2019 03:00:00 PM</td><td style=\"text-align: right;\">          1143</td><td style=\"text-align: right;\">         3.6</td><td style=\"text-align: right;\">          1.70318e+10</td><td style=\"text-align: right;\">           1.70313e+10</td><td style=\"text-align: right;\">                      7</td><td style=\"text-align: right;\">                      32</td><td style=\"text-align: right;\">  10  </td><td style=\"text-align: right;\">    0</td><td style=\"text-align: right;\">                2.55</td><td style=\"text-align: right;\">       12.55</td><td>False                   </td><td style=\"text-align: right;\">             1</td><td style=\"text-align: right;\">                   41.9147</td><td style=\"text-align: right;\">                   -87.654 </td><td>POINT (-87.6540070286 41.9147473049)</td><td style=\"text-align: right;\">                    41.885 </td><td style=\"text-align: right;\">                    -87.621 </td><td>POINT (-87.6209929134 41.8849871918)</td><td>2019-06-25       </td><td>2019-06-25 14:45:00  </td><td>Tue       </td></tr>\n",
       "<tr><td>&lt;i style=&#x27;opacity: 0.6&#x27;&gt;3&lt;/i&gt;</td><td>c270ea6b9bb98ebc5efa7e05d82bd47576551db1</td><td>05/03/2019 08:45:00 PM</td><td>05/03/2019 09:00:00 PM</td><td style=\"text-align: right;\">          1510</td><td style=\"text-align: right;\">         6.5</td><td style=\"text-align: right;\">        nan          </td><td style=\"text-align: right;\">         nan          </td><td style=\"text-align: right;\">                     21</td><td style=\"text-align: right;\">                      30</td><td style=\"text-align: right;\">  15  </td><td style=\"text-align: right;\">    0</td><td style=\"text-align: right;\">                2.55</td><td style=\"text-align: right;\">       17.55</td><td>False                   </td><td style=\"text-align: right;\">             1</td><td style=\"text-align: right;\">                   41.9387</td><td style=\"text-align: right;\">                   -87.7112</td><td>POINT (-87.7112105933 41.9386661962)</td><td style=\"text-align: right;\">                    41.8391</td><td style=\"text-align: right;\">                    -87.714 </td><td>POINT (-87.714003807 41.8390869059) </td><td>2019-05-03       </td><td>2019-05-03 20:45:00  </td><td>Fri       </td></tr>\n",
       "<tr><td>&lt;i style=&#x27;opacity: 0.6&#x27;&gt;4&lt;/i&gt;</td><td>c270eaf3ac453fcdfe5f78e307d082c871fa89df</td><td>04/25/2019 12:15:00 AM</td><td>04/25/2019 12:30:00 AM</td><td style=\"text-align: right;\">           450</td><td style=\"text-align: right;\">         1.8</td><td style=\"text-align: right;\">        nan          </td><td style=\"text-align: right;\">         nan          </td><td style=\"text-align: right;\">                     41</td><td style=\"text-align: right;\">                      41</td><td style=\"text-align: right;\">   5  </td><td style=\"text-align: right;\">    1</td><td style=\"text-align: right;\">                2.55</td><td style=\"text-align: right;\">        8.55</td><td>True                    </td><td style=\"text-align: right;\">             1</td><td style=\"text-align: right;\">                   41.7941</td><td style=\"text-align: right;\">                   -87.5923</td><td>POINT (-87.592310855 41.794090253)  </td><td style=\"text-align: right;\">                    41.7941</td><td style=\"text-align: right;\">                    -87.5923</td><td>POINT (-87.592310855 41.794090253)  </td><td>2019-04-25       </td><td>2019-04-25 00:15:00  </td><td>Thu       </td></tr>\n",
       "<tr><td>&lt;i style=&#x27;opacity: 0.6&#x27;&gt;5&lt;/i&gt;</td><td>c270eb7d79ce5d61c85f75e461164990a985d3bf</td><td>06/11/2019 06:00:00 PM</td><td>06/11/2019 07:00:00 PM</td><td style=\"text-align: right;\">          3038</td><td style=\"text-align: right;\">        17.2</td><td style=\"text-align: right;\">          1.70318e+10</td><td style=\"text-align: right;\">           1.70314e+10</td><td style=\"text-align: right;\">                     13</td><td style=\"text-align: right;\">                      42</td><td style=\"text-align: right;\">  30  </td><td style=\"text-align: right;\">    0</td><td style=\"text-align: right;\">                2.55</td><td style=\"text-align: right;\">       32.55</td><td>False                   </td><td style=\"text-align: right;\">             1</td><td style=\"text-align: right;\">                   41.9783</td><td style=\"text-align: right;\">                   -87.7164</td><td>POINT (-87.7164304157 41.9782942489)</td><td style=\"text-align: right;\">                    41.7831</td><td style=\"text-align: right;\">                    -87.6084</td><td>POINT (-87.6084265019 41.7831007248)</td><td>2019-06-11       </td><td>2019-06-11 18:00:00  </td><td>Tue       </td></tr>\n",
       "<tr><td>&lt;i style=&#x27;opacity: 0.6&#x27;&gt;6&lt;/i&gt;</td><td>c270ebb2b854a6d8965fc204d43a23ee5c0e8a47</td><td>06/11/2019 09:00:00 PM</td><td>06/11/2019 09:00:00 PM</td><td style=\"text-align: right;\">           731</td><td style=\"text-align: right;\">         3.7</td><td style=\"text-align: right;\">        nan          </td><td style=\"text-align: right;\">         nan          </td><td style=\"text-align: right;\">                      5</td><td style=\"text-align: right;\">                      24</td><td style=\"text-align: right;\">   7.5</td><td style=\"text-align: right;\">    0</td><td style=\"text-align: right;\">                0   </td><td style=\"text-align: right;\">        7.5 </td><td>True                    </td><td style=\"text-align: right;\">             1</td><td style=\"text-align: right;\">                   41.9478</td><td style=\"text-align: right;\">                   -87.6838</td><td>POINT (-87.6838349425 41.9477915865)</td><td style=\"text-align: right;\">                    41.9012</td><td style=\"text-align: right;\">                    -87.6764</td><td>POINT (-87.6763559892 41.9012069941)</td><td>2019-06-11       </td><td>2019-06-11 21:00:00  </td><td>Tue       </td></tr>\n",
       "<tr><td>&lt;i style=&#x27;opacity: 0.6&#x27;&gt;7&lt;/i&gt;</td><td>c270ebe07d287879ada954b923b30c9fe7fce383</td><td>05/13/2019 06:30:00 AM</td><td>05/13/2019 06:45:00 AM</td><td style=\"text-align: right;\">          1001</td><td style=\"text-align: right;\">         4.9</td><td style=\"text-align: right;\">        nan          </td><td style=\"text-align: right;\">         nan          </td><td style=\"text-align: right;\">                     31</td><td style=\"text-align: right;\">                      58</td><td style=\"text-align: right;\">  10  </td><td style=\"text-align: right;\">    0</td><td style=\"text-align: right;\">                2.55</td><td style=\"text-align: right;\">       12.55</td><td>False                   </td><td style=\"text-align: right;\">             1</td><td style=\"text-align: right;\">                   41.8503</td><td style=\"text-align: right;\">                   -87.6676</td><td>POINT (-87.667569312 41.8502663663) </td><td style=\"text-align: right;\">                    41.8174</td><td style=\"text-align: right;\">                    -87.6989</td><td>POINT (-87.6988607973 41.8173662079)</td><td>2019-05-13       </td><td>2019-05-13 06:30:00  </td><td>Mon       </td></tr>\n",
       "<tr><td>&lt;i style=&#x27;opacity: 0.6&#x27;&gt;8&lt;/i&gt;</td><td>c270ec073e3a63e530b380f7ecc73c48d09336f2</td><td>05/16/2019 03:00:00 PM</td><td>05/16/2019 03:45:00 PM</td><td style=\"text-align: right;\">          2725</td><td style=\"text-align: right;\">        27.8</td><td style=\"text-align: right;\">        nan          </td><td style=\"text-align: right;\">           1.7032e+10 </td><td style=\"text-align: right;\">                    nan</td><td style=\"text-align: right;\">                      76</td><td style=\"text-align: right;\">  37.5</td><td style=\"text-align: right;\">    7</td><td style=\"text-align: right;\">               10.36</td><td style=\"text-align: right;\">       54.86</td><td>False                   </td><td style=\"text-align: right;\">             1</td><td style=\"text-align: right;\">                  nan     </td><td style=\"text-align: right;\">                   nan     </td><td>None                                </td><td style=\"text-align: right;\">                    41.9791</td><td style=\"text-align: right;\">                    -87.903 </td><td>POINT (-87.9030396611 41.9790708201)</td><td>2019-05-16       </td><td>2019-05-16 15:00:00  </td><td>Thu       </td></tr>\n",
       "<tr><td>&lt;i style=&#x27;opacity: 0.6&#x27;&gt;9&lt;/i&gt;</td><td>c270ec3719c8a82d878f72b26e3e5e3b3c7d55ce</td><td>04/22/2019 08:45:00 PM</td><td>04/22/2019 09:00:00 PM</td><td style=\"text-align: right;\">           370</td><td style=\"text-align: right;\">         1.3</td><td style=\"text-align: right;\">        nan          </td><td style=\"text-align: right;\">         nan          </td><td style=\"text-align: right;\">                     28</td><td style=\"text-align: right;\">                      31</td><td style=\"text-align: right;\">   5  </td><td style=\"text-align: right;\">    3</td><td style=\"text-align: right;\">                2.55</td><td style=\"text-align: right;\">       10.55</td><td>False                   </td><td style=\"text-align: right;\">             1</td><td style=\"text-align: right;\">                   41.874 </td><td style=\"text-align: right;\">                   -87.6635</td><td>POINT (-87.6635175498 41.874005383) </td><td style=\"text-align: right;\">                    41.8503</td><td style=\"text-align: right;\">                    -87.6676</td><td>POINT (-87.667569312 41.8502663663) </td><td>2019-04-22       </td><td>2019-04-22 20:45:00  </td><td>Mon       </td></tr>\n",
       "</tbody>\n",
       "</table>"
      ],
      "text/plain": [
       "  #  Trip ID                                   Trip Start Timestamp    Trip End Timestamp        Trip Seconds    Trip Miles    Pickup Census Tract    Dropoff Census Tract    Pickup Community Area    Dropoff Community Area    Fare    Tip    Additional Charges    Trip Total  Shared Trip Authorized      Trips Pooled    Pickup Centroid Latitude    Pickup Centroid Longitude  Pickup Centroid Location                Dropoff Centroid Latitude    Dropoff Centroid Longitude  Dropoff Centroid Location             Trip Start Date    Trip Start Datetime    day_week\n",
       "  0  c270e7aa445974de59f845e2a0ebc9dc6b84c403  06/23/2019 12:30:00 PM  06/23/2019 01:00:00 PM            1745           8.2          nan                     nan                                 21                        28    25        3                  2.55         30.55  False                                  1                     41.9387                     -87.7112  POINT (-87.7112105933 41.9386661962)                      41.874                       -87.6635  POINT (-87.6635175498 41.874005383)   2019-06-23         2019-06-23 12:30:00    Sun\n",
       "  1  c270e7f286fe731c522a12fc3fa24f3a676e1c09  04/07/2019 11:30:00 PM  04/07/2019 11:30:00 PM             235           0.6            1.70313e+10             1.70318e+10                       32                        32     2.5      0                  2.55          5.05  False                                  1                     41.885                      -87.621   POINT (-87.6209929134 41.8849871918)                      41.881                       -87.6327  POINT (-87.6327464887 41.8809944707)  2019-04-07         2019-04-07 23:30:00    Sun\n",
       "  2  c270e931c25608efe6a40626e9923b2b269b7bc6  06/25/2019 02:45:00 PM  06/25/2019 03:00:00 PM            1143           3.6            1.70318e+10             1.70313e+10                        7                        32    10        0                  2.55         12.55  False                                  1                     41.9147                     -87.654   POINT (-87.6540070286 41.9147473049)                      41.885                       -87.621   POINT (-87.6209929134 41.8849871918)  2019-06-25         2019-06-25 14:45:00    Tue\n",
       "  3  c270ea6b9bb98ebc5efa7e05d82bd47576551db1  05/03/2019 08:45:00 PM  05/03/2019 09:00:00 PM            1510           6.5          nan                     nan                                 21                        30    15        0                  2.55         17.55  False                                  1                     41.9387                     -87.7112  POINT (-87.7112105933 41.9386661962)                      41.8391                      -87.714   POINT (-87.714003807 41.8390869059)   2019-05-03         2019-05-03 20:45:00    Fri\n",
       "  4  c270eaf3ac453fcdfe5f78e307d082c871fa89df  04/25/2019 12:15:00 AM  04/25/2019 12:30:00 AM             450           1.8          nan                     nan                                 41                        41     5        1                  2.55          8.55  True                                   1                     41.7941                     -87.5923  POINT (-87.592310855 41.794090253)                        41.7941                      -87.5923  POINT (-87.592310855 41.794090253)    2019-04-25         2019-04-25 00:15:00    Thu\n",
       "  5  c270eb7d79ce5d61c85f75e461164990a985d3bf  06/11/2019 06:00:00 PM  06/11/2019 07:00:00 PM            3038          17.2            1.70318e+10             1.70314e+10                       13                        42    30        0                  2.55         32.55  False                                  1                     41.9783                     -87.7164  POINT (-87.7164304157 41.9782942489)                      41.7831                      -87.6084  POINT (-87.6084265019 41.7831007248)  2019-06-11         2019-06-11 18:00:00    Tue\n",
       "  6  c270ebb2b854a6d8965fc204d43a23ee5c0e8a47  06/11/2019 09:00:00 PM  06/11/2019 09:00:00 PM             731           3.7          nan                     nan                                  5                        24     7.5      0                  0             7.5   True                                   1                     41.9478                     -87.6838  POINT (-87.6838349425 41.9477915865)                      41.9012                      -87.6764  POINT (-87.6763559892 41.9012069941)  2019-06-11         2019-06-11 21:00:00    Tue\n",
       "  7  c270ebe07d287879ada954b923b30c9fe7fce383  05/13/2019 06:30:00 AM  05/13/2019 06:45:00 AM            1001           4.9          nan                     nan                                 31                        58    10        0                  2.55         12.55  False                                  1                     41.8503                     -87.6676  POINT (-87.667569312 41.8502663663)                       41.8174                      -87.6989  POINT (-87.6988607973 41.8173662079)  2019-05-13         2019-05-13 06:30:00    Mon\n",
       "  8  c270ec073e3a63e530b380f7ecc73c48d09336f2  05/16/2019 03:00:00 PM  05/16/2019 03:45:00 PM            2725          27.8          nan                       1.7032e+10                       nan                        76    37.5      7                 10.36         54.86  False                                  1                    nan                          nan       None                                                      41.9791                      -87.903   POINT (-87.9030396611 41.9790708201)  2019-05-16         2019-05-16 15:00:00    Thu\n",
       "  9  c270ec3719c8a82d878f72b26e3e5e3b3c7d55ce  04/22/2019 08:45:00 PM  04/22/2019 09:00:00 PM             370           1.3          nan                     nan                                 28                        31     5        3                  2.55         10.55  False                                  1                     41.874                      -87.6635  POINT (-87.6635175498 41.874005383)                       41.8503                      -87.6676  POINT (-87.667569312 41.8502663663)   2019-04-22         2019-04-22 20:45:00    Mon"
      ]
     },
     "execution_count": 239,
     "metadata": {},
     "output_type": "execute_result"
    }
   ],
   "source": [
    "df.head()"
   ]
  },
  {
   "cell_type": "code",
   "execution_count": 240,
   "id": "4aaa4fc6-5296-489d-8ff7-6f9e810eeda1",
   "metadata": {},
   "outputs": [
    {
     "data": {
      "text/plain": [
       "vaex.hdf5.dataset.Hdf5MemoryMapped"
      ]
     },
     "execution_count": 240,
     "metadata": {},
     "output_type": "execute_result"
    }
   ],
   "source": [
    "type(df)"
   ]
  },
  {
   "cell_type": "code",
   "execution_count": 241,
   "id": "1a737919-63fd-4e93-b9ef-9e77ffa3e884",
   "metadata": {},
   "outputs": [
    {
     "data": {
      "text/plain": [
       "Sat    23064711\n",
       "Fri    21740211\n",
       "Thu    18270785\n",
       "Sun    17835888\n",
       "Wed    16392201\n",
       "Tue    16107863\n",
       "Mon    15309098\n",
       "dtype: int64"
      ]
     },
     "execution_count": 241,
     "metadata": {},
     "output_type": "execute_result"
    }
   ],
   "source": [
    "week_day_effect = df['day_week'].value_counts()\n",
    "week_day_effect"
   ]
  },
  {
   "cell_type": "code",
   "execution_count": 242,
   "id": "73349801-be7f-4c20-883a-59b6095935f9",
   "metadata": {},
   "outputs": [],
   "source": [
    "df['cost_per_mile'] = df['Fare']/df['Trip Miles']"
   ]
  },
  {
   "cell_type": "code",
   "execution_count": 246,
   "id": "bed8fc75-eac7-413a-b0f7-b74dfd22f9e5",
   "metadata": {},
   "outputs": [],
   "source": [
    "christmas = df[ df['Trip Start Date']=='2019-12-25'] \n",
    "# print(f\"Christmas Day of Week:  {christmas['day_week'].mean()}\")\n",
    "# print(f\"Christmas Average Fare:  {christmas['Fare'].mean()}\")\n",
    "# july4 = df[ df['Trip Start Date']=='2019-07-04'] \n",
    "# print(f\"July4 Day of Week:  {july4['day_week'].mean()}\")\n",
    "# print(f\"July4 Average Fare:  {july4['Fare'].mean()}\")"
   ]
  },
  {
   "cell_type": "code",
   "execution_count": 3,
   "id": "8d67df01-2df3-4580-827c-04bfff2077fa",
   "metadata": {},
   "outputs": [],
   "source": [
    "# df['Trip Start Date']=='2019-12-25'"
   ]
  },
  {
   "cell_type": "code",
   "execution_count": null,
   "id": "374d656a-f420-4fdf-9b85-3766ee4ece71",
   "metadata": {},
   "outputs": [],
   "source": []
  },
  {
   "cell_type": "code",
   "execution_count": null,
   "id": "55cc352d-781e-4d5a-b940-c2942fd6dbc6",
   "metadata": {},
   "outputs": [],
   "source": []
  },
  {
   "cell_type": "code",
   "execution_count": null,
   "id": "d92a14d8-095e-4ffd-92ed-f6c3b13bc6b8",
   "metadata": {},
   "outputs": [],
   "source": []
  },
  {
   "cell_type": "code",
   "execution_count": null,
   "id": "7ba1d4c9-d8be-429e-81e5-faaf14faae59",
   "metadata": {},
   "outputs": [],
   "source": []
  },
  {
   "cell_type": "code",
   "execution_count": null,
   "id": "0aa92c7e-6def-44ff-a8c3-ddc47be37dc0",
   "metadata": {},
   "outputs": [],
   "source": []
  },
  {
   "cell_type": "code",
   "execution_count": null,
   "id": "c9ab4005-f381-48cf-8a43-dc805b03601e",
   "metadata": {},
   "outputs": [],
   "source": []
  },
  {
   "cell_type": "code",
   "execution_count": 2,
   "id": "d4b5dee4-0860-492d-982f-b02576ae2868",
   "metadata": {},
   "outputs": [
    {
     "ename": "NameError",
     "evalue": "name 'df' is not defined",
     "output_type": "error",
     "traceback": [
      "\u001b[1;31m---------------------------------------------------------------------------\u001b[0m",
      "\u001b[1;31mNameError\u001b[0m                                 Traceback (most recent call last)",
      "\u001b[1;32m~\\AppData\\Local\\Temp/ipykernel_18204/1329865584.py\u001b[0m in \u001b[0;36m<module>\u001b[1;34m\u001b[0m\n\u001b[0;32m      1\u001b[0m \u001b[1;31m# day-by-day summary\u001b[0m\u001b[1;33m\u001b[0m\u001b[1;33m\u001b[0m\u001b[1;33m\u001b[0m\u001b[0m\n\u001b[1;32m----> 2\u001b[1;33m df_daily_ride_summary = df.groupby(by=\"Trip Start Date\").agg({'day_week':['mean','count'], 'Fare':['mean','stdev'], 'Tip':'mean', \n\u001b[0m\u001b[0;32m      3\u001b[0m                                                               'Additional Charges':'mean','cost_per_mile':['mean', 'stdev']})\n",
      "\u001b[1;31mNameError\u001b[0m: name 'df' is not defined"
     ]
    }
   ],
   "source": [
    "# day-by-day summary\n",
    "df_daily_ride_summary = df.groupby(by=\"Trip Start Date\").agg({'day_week':['mean','count'], 'Fare':['mean','stdev'], 'Tip':'mean', \n",
    "                                                              'Additional Charges':'mean','cost_per_mile':['mean', 'stdev']})"
   ]
  },
  {
   "cell_type": "code",
   "execution_count": 251,
   "id": "e880e7f4-6556-4d0c-8fc6-340d976a30b3",
   "metadata": {},
   "outputs": [],
   "source": [
    "small_df = df.sample(1100000, random_state=42)\n"
   ]
  },
  {
   "cell_type": "code",
   "execution_count": 252,
   "id": "2f289e59-6d6b-42e4-860c-8203c5a6bdcd",
   "metadata": {
    "tags": []
   },
   "outputs": [
    {
     "data": {
      "text/plain": [
       "vaex.dataframe.DataFrameArrays"
      ]
     },
     "execution_count": 252,
     "metadata": {},
     "output_type": "execute_result"
    }
   ],
   "source": [
    "type(small_df)"
   ]
  },
  {
   "cell_type": "code",
   "execution_count": 1,
   "id": "28e80bb8-ab52-41de-8085-264267804349",
   "metadata": {},
   "outputs": [],
   "source": [
    "\n",
    "# small_df.export(path='C:/Users/ejwda/Desktop/ride_share_sample/rides.hdf5')\n"
   ]
  },
  {
   "cell_type": "code",
   "execution_count": null,
   "id": "944b59be-584f-40a2-ae79-6fc880641d1f",
   "metadata": {},
   "outputs": [],
   "source": [
    " "
   ]
  }
 ],
 "metadata": {
  "kernelspec": {
   "display_name": "Python [conda env:PythonDataS2022] *",
   "language": "python",
   "name": "conda-env-PythonDataS2022-py"
  },
  "language_info": {
   "codemirror_mode": {
    "name": "ipython",
    "version": 3
   },
   "file_extension": ".py",
   "mimetype": "text/x-python",
   "name": "python",
   "nbconvert_exporter": "python",
   "pygments_lexer": "ipython3",
   "version": "3.8.12"
  }
 },
 "nbformat": 4,
 "nbformat_minor": 5
}
